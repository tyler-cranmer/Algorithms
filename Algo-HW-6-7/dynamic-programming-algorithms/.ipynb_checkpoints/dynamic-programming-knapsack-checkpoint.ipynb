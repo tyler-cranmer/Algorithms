{
 "cells": [
  {
   "cell_type": "markdown",
   "metadata": {},
   "source": [
    "# Knapsack Problem\n",
    "\n",
    "__Inputs:__ Weight limit $W$, list of item weights $[w_1, \\ldots, w_k]$, and list of item values $[v_1, \\ldots, v_k]$.\n",
    "\n",
    "__Output:__ Choose how many of each item to take $[n_1, \\ldots, n_k]$ so that \n",
    "   1. Total weight is under the knapsack weight limit: $n_1 w_1 + \\cdots + n_k w_k \\leq W$.\n",
    "   2. The value of stolen goods is maximized: $n_1 v_1 + \\ldots + n_k v_k $ is max."
   ]
  },
  {
   "cell_type": "code",
   "execution_count": 3,
   "metadata": {},
   "outputs": [],
   "source": [
    "W = 200\n",
    "weights = [1, 5, 20, 35, 90]\n",
    "values = [15, 14.5, 19.2, 19.8, 195.2]"
   ]
  },
  {
   "cell_type": "markdown",
   "metadata": {},
   "source": [
    "## 1. Identify the optimal substructure\n",
    "\n",
    "Suppose the current weight limit is $W$. Let us commit to stealing one of the available items and look at what is left to do.\n",
    "\n",
    "   1. Suppose we commit to stealing item $j$.\n",
    "   2. We now need to solve the same problem but for weight limit $W - w_j$. If the solution for this subproblem is obtained, then the original problem's solution is to take the solution for $W-w_j$ and append item $j$ to it.\n",
    "   \n",
    "We can thus see that the problem has optimal substructure.\n",
    "\n",
    "## 2. Recurrence\n",
    "\n",
    "$$\\text{maxSteal}(W) = \\max\\ \\left\\{ \\begin{array}{ll}\n",
    "0 & \\leftarrow\\ \\text{Choose to steal nothing and Quit!}\\\\\n",
    "v_1 + \\text{maxSteal}(W - w_1) & \\leftarrow\\ \\text{Choose one unit of item}\\ 1 \\\\\n",
    "v_2 + \\text{maxSteal}(W - w_2) & \\leftarrow\\ \\text{Choose one unit of item}\\ 2 \\\\\n",
    "\\vdots & \\\\\n",
    "v_k + \\text{maxSteal}(W - w_k) & \\leftarrow\\ \\text{Choose one unit of item}\\ k\\\\\n",
    "\\end{array} \\right.$$\n",
    "\n",
    "Base Case:\n",
    "\n",
    "  * $\\text{maxSteal}(0) = 0$ \n",
    "  * $\\text{maxSteal}(W) = -\\infty$ if $W < 0$.\n",
    " \n",
    " \n"
   ]
  },
  {
   "cell_type": "code",
   "execution_count": 2,
   "metadata": {},
   "outputs": [],
   "source": [
    "def maxSteal(W, weights, values):\n",
    "    if W == 0: \n",
    "        return 0\n",
    "    if W < 0:\n",
    "        return 100000\n",
    "    k = len(weights)\n",
    "    assert len(values) == k\n",
    "    opts = [ values[i] + maxSteal(W - weights[i], weights, values) for i in range(k) ]\n",
    "    return max(opts)"
   ]
  },
  {
   "cell_type": "code",
   "execution_count": null,
   "metadata": {},
   "outputs": [],
   "source": [
    "#WARNING: This will run for a very very long time.\n",
    "print(maxSteal(25, weights, values))\n",
    "print(maxSteal(W, weights, values))"
   ]
  },
  {
   "cell_type": "markdown",
   "metadata": {},
   "source": [
    "## 3. Memoize\n",
    "\n",
    "Memoization is very simple. We make a table $T[0], ... , T[W]$ for storing $\\text{maxSteal}(j)$ for j ranging from $0$ to $W$.\n",
    "The rest just follows the structure of the recurrence taking care to handle -ve values for weight separately.\n",
    "\n",
    "## 4. Recover Solution\n",
    "\n",
    "We store in a separate table $S[0], \\ldots, S[W]$ which option provides us with the best value.\n"
   ]
  },
  {
   "cell_type": "code",
   "execution_count": 15,
   "metadata": {},
   "outputs": [],
   "source": [
    "def maxSteal_memo(W, weights, values):\n",
    "    # Initialize the tables\n",
    "    T = [0]* (W+1)\n",
    "    S = [-1]* (W+1)\n",
    "    k = len(weights)\n",
    "    assert len(values) == k\n",
    "    for w in range(1, W+1):\n",
    "        opts =  [  ( (values[i]+ T[ w - weights[i] ]), i )  for i in range(k) if w - weights[i] >= 0 ]\n",
    "        opts.append( (1000000, -1) ) # In case opts was empty from the previous step.\n",
    "        T[w], S[w] = min(opts)\n",
    "    # This finishes the computation\n",
    "    stolen_item_ids = []\n",
    "    weight_remaining = W\n",
    "    while weight_remaining >= 0:\n",
    "        item_id = S[weight_remaining]\n",
    "        if item_id >= 0:\n",
    "            stolen_item_ids.append('Steal Item ID %d: weight = %d, value = %f' % (item_id, weights[item_id], values[item_id]) )\n",
    "            weight_remaining = weight_remaining - weights[item_id]\n",
    "        else:\n",
    "            break\n",
    "    return T[W], stolen_item_ids"
   ]
  },
  {
   "cell_type": "code",
   "execution_count": 16,
   "metadata": {},
   "outputs": [
    {
     "name": "stdout",
     "output_type": "stream",
     "text": [
      "(33.7, ['Steal Item ID 1: weight = 5, value = 14.500000', 'Steal Item ID 2: weight = 20, value = 19.200000'])\n",
      "(132.7, ['Steal Item ID 1: weight = 5, value = 14.500000', 'Steal Item ID 3: weight = 35, value = 19.800000', 'Steal Item ID 3: weight = 35, value = 19.800000', 'Steal Item ID 3: weight = 35, value = 19.800000', 'Steal Item ID 2: weight = 20, value = 19.200000', 'Steal Item ID 3: weight = 35, value = 19.800000', 'Steal Item ID 3: weight = 35, value = 19.800000'])\n"
     ]
    }
   ],
   "source": [
    "print(maxSteal_memo(25, weights, values))\n",
    "print(maxSteal_memo(W, weights, values))"
   ]
  },
  {
   "cell_type": "code",
   "execution_count": null,
   "metadata": {},
   "outputs": [],
   "source": []
  }
 ],
 "metadata": {
  "kernelspec": {
   "display_name": "Python 3",
   "language": "python",
   "name": "python3"
  },
  "language_info": {
   "codemirror_mode": {
    "name": "ipython",
    "version": 3
   },
   "file_extension": ".py",
   "mimetype": "text/x-python",
   "name": "python",
   "nbconvert_exporter": "python",
   "pygments_lexer": "ipython3",
   "version": "3.8.5"
  }
 },
 "nbformat": 4,
 "nbformat_minor": 2
}
