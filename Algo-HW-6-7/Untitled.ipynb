{
 "cells": [
  {
   "cell_type": "code",
   "execution_count": 7,
   "id": "expensive-variance",
   "metadata": {},
   "outputs": [],
   "source": [
    "def minCoursesForJaneAvoidKK_Memoize(n): # j is assumed to be 1 \n",
    "    moves = [1,4,5,11]\n",
    "    T = [0]*(n)\n",
    "    k = len(moves)\n",
    "    for i in range(1,n):\n",
    "        opts = [1 + T[i-moves[mj]] for mj in range(k) if ((i - moves[mj] >= 0) and ((i + moves[mj]) % 7 != 2))]\n",
    "        opts.append(1000000)\n",
    "        T[i] = min(opts)\n",
    "    return T[i]\n",
    "\n",
    "\n"
   ]
  },
  {
   "cell_type": "code",
   "execution_count": 8,
   "id": "parental-perry",
   "metadata": {},
   "outputs": [
    {
     "name": "stdout",
     "output_type": "stream",
     "text": [
      "2\n"
     ]
    }
   ],
   "source": [
    "print(minCoursesForJaneAvoidKK_Memoize(9))"
   ]
  },
  {
   "cell_type": "code",
   "execution_count": 21,
   "id": "english-pixel",
   "metadata": {},
   "outputs": [],
   "source": [
    "def minCoursesForJaneAvoidKK(j, n):\n",
    "    moves = [1,4,5,11]\n",
    "    if j == n:\n",
    "        return 0\n",
    "    if j > n:\n",
    "        return 1000000\n",
    "    if (j) % 7 == 2:\n",
    "        return 10000000\n",
    "    opts = [1 + minCoursesForJaneAvoidKK(j+mi, n) for mi in moves]\n",
    "    val = min(opts)\n",
    "    return val "
   ]
  },
  {
   "cell_type": "code",
   "execution_count": 34,
   "id": "acquired-canal",
   "metadata": {},
   "outputs": [],
   "source": [
    "def minCoursesWithEnergyBudget(j, e, n):\n",
    "    moves = [1,4,5,11]\n",
    "    energy = [1, 2, 3, 7]\n",
    "    if e <= 0 or j > n:\n",
    "        return 1000000\n",
    "    if j == n:\n",
    "        return 0\n",
    "    if (j) % 7 == 2:\n",
    "        return 10000000\n",
    "    k = len(energy)\n",
    "    assert len(moves) == k\n",
    "    opts = [1 + minCoursesWithEnergyBudget(j+moves[i], e-energy[i], n) for i in range(k)]\n",
    "    val = min(opts)\n",
    "    return val"
   ]
  },
  {
   "cell_type": "code",
   "execution_count": 35,
   "id": "hired-ceremony",
   "metadata": {},
   "outputs": [
    {
     "name": "stdout",
     "output_type": "stream",
     "text": [
      "7\n"
     ]
    }
   ],
   "source": [
    "print(minCoursesWithEnergyBudget(1, 16, 30))"
   ]
  },
  {
   "cell_type": "code",
   "execution_count": 16,
   "id": "norman-construction",
   "metadata": {},
   "outputs": [],
   "source": [
    "L = 100\n",
    "sizes =  [ 1, 3, 5, 10, 30, 50, 75]\n",
    "prices = [ 0.1, 0.2, 0.4, 0.9, 3.1, 5.1, 8.2]\n",
    "\n",
    "def maxRevenueNew_Memoize(L, sizes, prices):\n",
    "   \n",
    "    k = len(sizes)\n",
    "    assert len(prices) == k\n",
    "    # Build a two dimensional tbl in python\n",
    "    # The entire table is filled with zeros\n",
    "    tbl = [] \n",
    "    # Also record which option is best to reconstruct solution\n",
    "    sol = []\n",
    "    for i in range(L+1): \n",
    "        tbl.append([0]*(k+1))\n",
    "        sol.append([-1]* (k+1))\n",
    "    \n",
    "    for l in range(L+1):\n",
    "        for j in range(k-1, -1, -1): # Iterate from k-1 down to 0\n",
    "            ki = l // sizes[j]\n",
    "            valuesToConsider = [ ((i * prices[j] +  tbl[ l-i*sizes[j] ][j+1]), i) for i in range(ki+1) ]\n",
    "            valuesToConsider.append((0, -1))\n",
    "            (val, option_id) = max(valuesToConsider)\n",
    "            tbl[l][j] = val\n",
    "            sol[l][j] = option_id\n",
    "    return tbl"
   ]
  },
  {
   "cell_type": "code",
   "execution_count": 17,
   "id": "integrated-spine",
   "metadata": {},
   "outputs": [
    {
     "data": {
      "text/plain": [
       "[[0.0, 0.0, 0.0, 0.0, 0.0, 0.0, 0.0, 0],\n",
       " [0.1, 0.0, 0.0, 0.0, 0.0, 0.0, 0.0, 0],\n",
       " [0.2, 0.0, 0.0, 0.0, 0.0, 0.0, 0.0, 0],\n",
       " [0.30000000000000004, 0.2, 0.0, 0.0, 0.0, 0.0, 0.0, 0],\n",
       " [0.4, 0.2, 0.0, 0.0, 0.0, 0.0, 0.0, 0],\n",
       " [0.5, 0.4, 0.4, 0.0, 0.0, 0.0, 0.0, 0],\n",
       " [0.6000000000000001, 0.4, 0.4, 0.0, 0.0, 0.0, 0.0, 0],\n",
       " [0.7000000000000001, 0.4, 0.4, 0.0, 0.0, 0.0, 0.0, 0],\n",
       " [0.8, 0.6000000000000001, 0.4, 0.0, 0.0, 0.0, 0.0, 0],\n",
       " [0.9, 0.6000000000000001, 0.4, 0.0, 0.0, 0.0, 0.0, 0],\n",
       " [1.0, 0.9, 0.9, 0.9, 0.0, 0.0, 0.0, 0],\n",
       " [1.1, 0.9, 0.9, 0.9, 0.0, 0.0, 0.0, 0],\n",
       " [1.2000000000000002, 0.9, 0.9, 0.9, 0.0, 0.0, 0.0, 0],\n",
       " [1.3, 1.1, 0.9, 0.9, 0.0, 0.0, 0.0, 0],\n",
       " [1.4000000000000001, 1.1, 0.9, 0.9, 0.0, 0.0, 0.0, 0],\n",
       " [1.5, 1.3, 1.3, 0.9, 0.0, 0.0, 0.0, 0],\n",
       " [1.6, 1.3, 1.3, 0.9, 0.0, 0.0, 0.0, 0],\n",
       " [1.7000000000000002, 1.3, 1.3, 0.9, 0.0, 0.0, 0.0, 0],\n",
       " [1.8, 1.5, 1.3, 0.9, 0.0, 0.0, 0.0, 0],\n",
       " [1.9000000000000001, 1.5, 1.3, 0.9, 0.0, 0.0, 0.0, 0],\n",
       " [2.0, 1.8, 1.8, 1.8, 0.0, 0.0, 0.0, 0],\n",
       " [2.1, 1.8, 1.8, 1.8, 0.0, 0.0, 0.0, 0],\n",
       " [2.2, 1.8, 1.8, 1.8, 0.0, 0.0, 0.0, 0],\n",
       " [2.3000000000000003, 2.0, 1.8, 1.8, 0.0, 0.0, 0.0, 0],\n",
       " [2.4000000000000004, 2.0, 1.8, 1.8, 0.0, 0.0, 0.0, 0],\n",
       " [2.5, 2.2, 2.2, 1.8, 0.0, 0.0, 0.0, 0],\n",
       " [2.6, 2.2, 2.2, 1.8, 0.0, 0.0, 0.0, 0],\n",
       " [2.7, 2.2, 2.2, 1.8, 0.0, 0.0, 0.0, 0],\n",
       " [2.8000000000000003, 2.4000000000000004, 2.2, 1.8, 0.0, 0.0, 0.0, 0],\n",
       " [2.9000000000000004, 2.4000000000000004, 2.2, 1.8, 0.0, 0.0, 0.0, 0],\n",
       " [3.1, 3.1, 3.1, 3.1, 3.1, 0.0, 0.0, 0]]"
      ]
     },
     "execution_count": 17,
     "metadata": {},
     "output_type": "execute_result"
    }
   ],
   "source": [
    "maxRevenueNew_Memoize(30, sizes, prices)"
   ]
  },
  {
   "cell_type": "code",
   "execution_count": 19,
   "id": "occupational-bones",
   "metadata": {},
   "outputs": [],
   "source": [
    "def maxRevenue_Memoize(L, sizes, prices): \n",
    "    T = [0]*(L+1) # create an array of size L+1 and fill it with all 0s \n",
    "    k = len(sizes)\n",
    "    assert len(prices) == k\n",
    "    \n",
    "    for l in range(1, L+1):\n",
    "        optionValues = [ (prices[i] + T[L-sizes[i]]) for i in range(k) if l - sizes[i] >= 0 ]\n",
    "        T[l] = max(optionValues)\n",
    "    return T"
   ]
  },
  {
   "cell_type": "code",
   "execution_count": 20,
   "id": "north-brooklyn",
   "metadata": {},
   "outputs": [
    {
     "name": "stdout",
     "output_type": "stream",
     "text": [
      "[2.5000000000000004, 2.4000000000000004, 2.2, 1.8, 3.1]\n"
     ]
    }
   ],
   "source": [
    "print(maxRevenue_Memoize(30, sizes, prices))"
   ]
  },
  {
   "cell_type": "code",
   "execution_count": 51,
   "id": "hungry-spanish",
   "metadata": {},
   "outputs": [
    {
     "name": "stdout",
     "output_type": "stream",
     "text": [
      "25\n"
     ]
    }
   ],
   "source": [
    "\n",
    "# Python 3 program to find subarray having  \n",
    "# maximum sum less than or equal to sum  \n",
    "  \n",
    "# To find subarray with maximum sum  \n",
    "# less than or equal to sum  \n",
    "def findMaxSubarraySum(arr, n, sum): \n",
    "      \n",
    "    # To store current sum and  \n",
    "    # max sum of subarrays  \n",
    "    curr_sum = arr[0] \n",
    "    max_sum = 0\n",
    "    start = 0;  \n",
    "  \n",
    "    # To find max_sum less than sum  \n",
    "    for i in range(1, n): \n",
    "          \n",
    "        # Update max_sum if it becomes  \n",
    "        # greater than curr_sum  \n",
    "        if (curr_sum <= sum): \n",
    "            max_sum = max(max_sum, curr_sum)  \n",
    "  \n",
    "        # If curr_sum becomes greater than sum  \n",
    "        # subtract starting elements of array  \n",
    "        while (curr_sum + arr[i] > sum and start < i): \n",
    "            curr_sum -= arr[start]  \n",
    "            start += 1\n",
    "          \n",
    "        # Add elements to curr_sum  \n",
    "        curr_sum += arr[i]  \n",
    "  \n",
    "    # Adding an extra check for last subarray  \n",
    "    if (curr_sum <= sum): \n",
    "        max_sum = max(max_sum, curr_sum)  \n",
    "  \n",
    "    return max_sum \n",
    "  \n",
    "# Driver Code \n",
    "if __name__ == '__main__': \n",
    "    arr = [1, 2, 3, 4, 5, 10]  \n",
    "    n = len(arr)  \n",
    "    sum = 26\n",
    "  \n",
    "    print(findMaxSubarraySum(arr, n, sum))  "
   ]
  },
  {
   "cell_type": "code",
   "execution_count": null,
   "id": "aging-trial",
   "metadata": {},
   "outputs": [],
   "source": []
  },
  {
   "cell_type": "code",
   "execution_count": null,
   "id": "separated-barrier",
   "metadata": {},
   "outputs": [],
   "source": []
  },
  {
   "cell_type": "code",
   "execution_count": null,
   "id": "permanent-naples",
   "metadata": {},
   "outputs": [],
   "source": []
  },
  {
   "cell_type": "code",
   "execution_count": null,
   "id": "reverse-comparative",
   "metadata": {},
   "outputs": [],
   "source": [
    "opts = [1 + minCoursesWithEnergyBudget(j+moves[i], e-energy[i], n) for i in range(k)]"
   ]
  },
  {
   "cell_type": "code",
   "execution_count": 36,
   "id": "backed-freight",
   "metadata": {},
   "outputs": [],
   "source": [
    "def minCoursesForJaneAvoidKK_Memoize(n): # j is assumed to be 1 \n",
    "    moves = [1,4,5,11]\n",
    "    T = [0]*(n)\n",
    "    k = len(moves)\n",
    "    for i in range(1,n):\n",
    "        opts = [1 + T[i-moves[mj]] for mj in range(k) if ((i - moves[mj] >= 0) and ((i + moves[mj]) % 7 != 2))]\n",
    "        opts.append(1000000)\n",
    "        T[i] = min(opts)\n",
    "    return T[i]"
   ]
  },
  {
   "cell_type": "code",
   "execution_count": 46,
   "id": "brave-catholic",
   "metadata": {},
   "outputs": [],
   "source": [
    "def minCoursesWithEnergyBudget_Memoize(E, n): # j is assumed 1 and omitted as an argument.\n",
    "    moves = [1,4,5,11]\n",
    "    energy = [1, 2, 3, 7]\n",
    "\n",
    "    en = len(energy) #sizes\n",
    "    assert len(moves) == en\n",
    "    \n",
    "    T = []\n",
    "    \n",
    "    for i in range(n):\n",
    "        T.append([0]*(E))\n",
    "\n",
    "    for i in range(1,n):\n",
    "        for j in range(en-1, -1, -1):\n",
    "            opts = [1 + T[i-moves[mj][j+1]] for mj in range(en) if ((i - moves[mj] >= 0) and ((i + moves[mj]) % 7 != 2))]\n",
    "            opts.append((100000000000000, -1))\n",
    "            T[i][j] = min(opts)\n",
    "        return T[i][j]"
   ]
  },
  {
   "cell_type": "code",
   "execution_count": 47,
   "id": "defensive-entity",
   "metadata": {},
   "outputs": [
    {
     "name": "stdout",
     "output_type": "stream",
     "text": [
      "(100000000000000, -1)\n"
     ]
    }
   ],
   "source": [
    "print(minCoursesWithEnergyBudget_Memoize(25, 10))"
   ]
  },
  {
   "cell_type": "code",
   "execution_count": 54,
   "id": "invalid-porcelain",
   "metadata": {},
   "outputs": [
    {
     "name": "stdout",
     "output_type": "stream",
     "text": [
      "6\n",
      "5\n",
      "4\n",
      "3\n",
      "2\n",
      "1\n"
     ]
    }
   ],
   "source": [
    "l =  [1,2,3,4,5,6]\n",
    "k = len(l)\n",
    "for i in range(k, 0, -1):\n",
    "    print(i)"
   ]
  },
  {
   "cell_type": "code",
   "execution_count": 58,
   "id": "naked-clock",
   "metadata": {},
   "outputs": [
    {
     "data": {
      "text/plain": [
       "1000000"
      ]
     },
     "execution_count": 58,
     "metadata": {},
     "output_type": "execute_result"
    }
   ],
   "source": [
    "def isSubsetSum(set, n, sum):\n",
    " \n",
    "    # Base Cases\n",
    "    if (sum == 0):\n",
    "        return 0\n",
    "    if (n == 0):\n",
    "        return 1000000\n",
    " \n",
    "    # If last element is greater than\n",
    "    # sum, then ignore it\n",
    "    if (set[n - 1] > sum):\n",
    "        return isSubsetSum(set, n - 1, sum)\n",
    " \n",
    "    # else, check if sum can be obtained\n",
    "    # by any of the following\n",
    "    # (a) including the last element\n",
    "    # (b) excluding the last element\n",
    "    return isSubsetSum(\n",
    "        set, n-1, sum) or isSubsetSum(\n",
    "        set, n-1, sum-set[n-1])\n",
    " \n",
    " \n",
    "# Driver code\n",
    "set = [3, 34, 4, 12, 5, 2]\n",
    "sum = 9\n",
    "n = len(set)\n",
    "isSubsetSum(set, n, sum)\n"
   ]
  },
  {
   "cell_type": "code",
   "execution_count": null,
   "id": "rational-christianity",
   "metadata": {},
   "outputs": [],
   "source": []
  }
 ],
 "metadata": {
  "kernelspec": {
   "display_name": "Python 3",
   "language": "python",
   "name": "python3"
  },
  "language_info": {
   "codemirror_mode": {
    "name": "ipython",
    "version": 3
   },
   "file_extension": ".py",
   "mimetype": "text/x-python",
   "name": "python",
   "nbconvert_exporter": "python",
   "pygments_lexer": "ipython3",
   "version": "3.8.5"
  }
 },
 "nbformat": 4,
 "nbformat_minor": 5
}
