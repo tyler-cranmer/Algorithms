{
 "cells": [
  {
   "cell_type": "markdown",
   "metadata": {},
   "source": [
    "# Programming Assignment \\# 1\n",
    "\n",
    "__Goal:__ \n",
    "\n",
    "This programming assignment will ask you to do the following tasks.\n",
    "\n",
    "(a) Implement some of the sorting algorithms for sorting integer data in ascending order in python3.\n",
    "  - Simple sort (implemented for you)\n",
    "  - Bubble Sort (read from book or online sources)\n",
    "  - Merge Sort\n",
    "  - Quicksort \n",
    "  \n",
    "  \n",
    "(b) Your implementation must count the number of *compare* operations each sorting algorithm carries out.\n",
    "    \n",
    "(c) You must formulate a series of arrays of lengths from $5$ to $100$  (step by 5), that will form the worst case of these\n",
    "sorting algorithms and plot the number of comparisons in the __worst case__ vs. size of input array (x axis)\n",
    " \n",
    "(d) Generate $1000$ random inputs for each size and compute average time. Plot the size of input array (x axis) vs. number of comparisons (y axis)"
   ]
  },
  {
   "cell_type": "markdown",
   "metadata": {},
   "source": [
    "----\n",
    "## Simple Sort"
   ]
  },
  {
   "cell_type": "code",
   "execution_count": 18,
   "metadata": {},
   "outputs": [],
   "source": [
    "%matplotlib inline\n",
    "import matplotlib\n",
    "import numpy as np\n",
    "import matplotlib.pyplot as plt\n",
    "\n",
    "def simple_sort(a):\n",
    "    # must sort the array a in place and return the number of comparisons\n",
    "    num_compare = 0\n",
    "    n = len(a)\n",
    "    for i in range(0, n): # i goes from 0 to n-1\n",
    "        for j in range(i+1, n): # j goes from i+1 to n-1\n",
    "            num_compare = num_compare + 1\n",
    "            if a[i] >= a[j]:\n",
    "                # swap\n",
    "                a[i], a[j] = a[j], a[i]\n",
    "    return num_compare"
   ]
  },
  {
   "cell_type": "code",
   "execution_count": 19,
   "metadata": {},
   "outputs": [
    {
     "name": "stdout",
     "output_type": "stream",
     "text": [
      "Num Comparison =  45\n",
      "Sorted Result =  [-2, -1, 1, 2, 3, 3, 4, 10, 15, 29]\n"
     ]
    }
   ],
   "source": [
    "# TESTING CODE\n",
    "a = [3, 10, 1, 29, -1, 4, 3, 15, 2, -2]\n",
    "nc = simple_sort(a)\n",
    "print('Num Comparison = ', nc)\n",
    "print('Sorted Result = ', a)"
   ]
  },
  {
   "cell_type": "markdown",
   "metadata": {},
   "source": [
    "### Complexity analysis of simple sort.\n",
    "\n",
    "Note that simple sort consists of two loops and regardless of the input array, the first loop runs from n steps. And the second loop runs $n-i-1$ steps where $i$ is the index of the first loop. Thus, the worst case, best case and average case complexity should be $\\sum_{j=1}^{n-1} j = \\frac{n(n-1)}{2}$ comparisons = $\\Theta(n^2)$\n",
    "\n",
    "The code below plots it for arrays of size 5, 10, ..., 100. However, we cannot really distinguish between the number of comparisons for randomized vs. worst case."
   ]
  },
  {
   "cell_type": "code",
   "execution_count": 20,
   "metadata": {},
   "outputs": [
    {
     "data": {
      "image/png": "[encoded data removed]",
      "text/plain": [
       "<Figure size 432x288 with 1 Axes>"
      ]
     },
     "metadata": {
      "needs_background": "light"
     },
     "output_type": "display_data"
    }
   ],
   "source": [
    "import random\n",
    "\n",
    "# CODE TO GENERATE WORST CASE\n",
    "array_sizes = range(5, 100, 5)\n",
    "\n",
    "# Code for creating an already sorted array\n",
    "def create_ascending_sorted_array(a_size):\n",
    "    a = []\n",
    "    for i in range(a_size):\n",
    "        a.append(i)\n",
    "    return a\n",
    "\n",
    "# Code for creating a random array\n",
    "def create_random_shuffled_array(a_size):\n",
    "    a = list(range(a_size))\n",
    "    random.shuffle(a)\n",
    "    return a\n",
    "\n",
    "\n",
    "# Code for running sorting and generating number of compares\n",
    "num_compares_wc = []\n",
    "for n in array_sizes:\n",
    "    a = create_ascending_sorted_array(n)\n",
    "    nc = simple_sort(a)\n",
    "    num_compares_wc.append(nc)\n",
    "    \n",
    "# Randomized comparisons\n",
    "num_compares_random = []\n",
    "num_trials = 1000\n",
    "for n in array_sizes:\n",
    "    total = 0\n",
    "    for m in range(num_trials):\n",
    "        a = create_random_shuffled_array(n)\n",
    "        nc = simple_sort(a)\n",
    "        total = total + nc\n",
    "    avg = total / num_trials\n",
    "    num_compares_random.append(avg)\n",
    "# Code for plotting\n",
    "\n",
    "plt.plot(array_sizes, num_compares_wc, label='Worst Case')\n",
    "plt.plot(array_sizes, num_compares_random, label='Average Case')\n",
    "plt.legend(['Worst Case', 'Average Case'])\n",
    "plt.title('Simple Sort (Worst and Average Cases)')\n",
    "plt.xlabel('Array Size')\n",
    "plt.ylabel('Number of Comparisons')\n",
    "\n",
    "plt.show()"
   ]
  },
  {
   "cell_type": "markdown",
   "metadata": {},
   "source": [
    "----\n",
    "\n",
    "### Bubble Sort"
   ]
  },
  {
   "cell_type": "code",
   "execution_count": 150,
   "metadata": {},
   "outputs": [],
   "source": [
    "def bubble_sort(a):\n",
    "    num_compares = 0\n",
    "    n = len(a)\n",
    "    for i in range(n): #iterate through all elements in array\n",
    "        for j in range(0, n-i-1): #iterate through array from 0 to n-i-1 becase the ith element will be already in palce\n",
    "            num_compares += 1\n",
    "            if a[j] > a[j+1]: #if element is greater than next element, swap/ \n",
    "                a[j], a[j+1] = a[j+1], a[j]\n",
    "    return num_compares"
   ]
  },
  {
   "cell_type": "markdown",
   "metadata": {},
   "source": [
    "### Complexity Analysis of Bubble Sort\n"
   ]
  },
  {
   "cell_type": "markdown",
   "metadata": {},
   "source": [
    "Bubble sort has a similar complexity to simple sort. It consists of two loops and the first loop will run regardless of the size. the second loop will run through n-i-1 times because of the indexing of i in the first loop. Thus the worst, best and average case will be  $\\sum_{j=1}^{n-1} j = \\frac{n(n-1)}{2}$ comparisons = $\\Theta(n^2)$\n",
    "\n",
    "Because both loops run for a time of n regardless of input, the number of comparisons for randomized and vs. worst case will be the same. \n",
    "\n",
    "if we were asked about the swapping of elements. A worse case array would look like a series of numbers that are in decending order. "
   ]
  },
  {
   "cell_type": "code",
   "execution_count": 152,
   "metadata": {
    "scrolled": true
   },
   "outputs": [
    {
     "data": {
      "image/png": "[encoded data removed]",
      "text/plain": [
       "<Figure size 432x288 with 1 Axes>"
      ]
     },
     "metadata": {
      "needs_background": "light"
     },
     "output_type": "display_data"
    }
   ],
   "source": [
    "## WRITE CODE HERE TO GENERATE WORST CASE and AVERAGE CASE INPUTS/PLOT\n",
    "## You may cut and paste from code we provided or directly call them\n",
    "import random\n",
    "\n",
    "# CODE TO GENERATE WORST CASE\n",
    "array_sizes = range(5, 100, 5)\n",
    "\n",
    "# Code for creating an already sorted array\n",
    "def create_ascending_sorted_array(a_size):\n",
    "    a = []\n",
    "    for i in range(a_size):\n",
    "        a.append(i)\n",
    "    a.reverse() #reverse order\n",
    "    return a\n",
    "\n",
    "# Code for creating a random array\n",
    "def create_random_shuffled_array(a_size):\n",
    "    a = list(range(a_size))\n",
    "    random.shuffle(a)\n",
    "    return a\n",
    "\n",
    "\n",
    "# Code for running sorting and generating number of compares\n",
    "num_compares_wc = []\n",
    "for n in array_sizes:\n",
    "    a = create_ascending_sorted_array(n)\n",
    "    nc = bubble_sort(a)\n",
    "    num_compares_wc.append(nc)\n",
    "    \n",
    "# Randomized comparisons\n",
    "num_compares_random = []\n",
    "num_trials = 1000\n",
    "for n in array_sizes:\n",
    "    total = 0\n",
    "    for m in range(num_trials):\n",
    "        a = create_random_shuffled_array(n)\n",
    "        nc = bubble_sort(a)\n",
    "        total = total + nc\n",
    "    avg = total / num_trials\n",
    "    num_compares_random.append(avg)\n",
    "# Code for plotting\n",
    "plt.plot(array_sizes, num_compares_wc, label='Worst Case')\n",
    "plt.plot(array_sizes, num_compares_random, label='Average Case')\n",
    "plt.legend(['Worst Case', 'Average Case'])\n",
    "plt.title('Bubble sort (Worst and Average Cases)')\n",
    "plt.xlabel('Array Size')\n",
    "plt.ylabel('Number of Comparisons')\n",
    "\n",
    "plt.show()\n"
   ]
  },
  {
   "cell_type": "markdown",
   "metadata": {},
   "source": [
    "----\n",
    "### Merge Sort"
   ]
  },
  {
   "cell_type": "code",
   "execution_count": 208,
   "metadata": {},
   "outputs": [],
   "source": [
    "def merge(arr, start, mid, end):\n",
    "    i = start\n",
    "    j = mid + 1\n",
    "    k = 0\n",
    "    num_compares = 0\n",
    "    temp = [0]*(end-start+1) #temp array to store elements\n",
    "    while(i <= mid and j <= end):\n",
    "        #move smaller element to front of array from both left and right.\n",
    "        if (arr[i] <= arr[j]):\n",
    "            temp[k] = arr[i]\n",
    "            k += 1\n",
    "            i +=1\n",
    "            num_compares += 1\n",
    "        else:\n",
    "            temp[k] = arr[j] \n",
    "            k +=1\n",
    "            j+=1\n",
    "            num_compares += 1\n",
    "    #add element from the left in first interval        \n",
    "    while(i <= mid):\n",
    "        temp[k] = arr[i]\n",
    "        k +=1\n",
    "        i +=1\n",
    "    #add element from right in right interval\n",
    "    while(j <= end):\n",
    "        temp[k] = arr[j]\n",
    "        k +=1\n",
    "        j +=1\n",
    "    for i in range(start, end+1):\n",
    "          arr[i] = temp [i-start]\n",
    "    return num_compares\n",
    "\n"
   ]
  },
  {
   "cell_type": "code",
   "execution_count": 209,
   "metadata": {},
   "outputs": [],
   "source": [
    "def merge_sort_recursive(arr,start,end):\n",
    "    num_compares = 0\n",
    "    if start < end:\n",
    "        midpoint = (start+end) // 2\n",
    "        num_compares += merge_sort_recursive(arr,start,midpoint)\n",
    "        num_compares += merge_sort_recursive(arr,midpoint+1,end)\n",
    "        num_compares += merge(arr,start,midpoint,end)\n",
    "    return num_compares"
   ]
  },
  {
   "cell_type": "code",
   "execution_count": 210,
   "metadata": {},
   "outputs": [],
   "source": [
    "def merge_sort(a):\n",
    "    # Implement the code for merge sort\n",
    "    # Use a function merge_sort_recursive to implement the recursive call\n",
    "    # Be careful in counting number of comparisons since you should include comparisons in the merge part.\n",
    "    # Also: code needs to sort the array a. You may have to copy things over from a temp array back into a.\n",
    "    return merge_sort_recursive(a, 0, len(a)-1)"
   ]
  },
  {
   "cell_type": "code",
   "execution_count": 211,
   "metadata": {},
   "outputs": [
    {
     "name": "stdout",
     "output_type": "stream",
     "text": [
      "[1, 5, 3, 7, 2, 6, 4, 8]\n"
     ]
    }
   ],
   "source": [
    "# These series of functions takes in an already sorted array and creates a permutation that will result in a worst case of merge sort.\n",
    "# This will create two sub arrays with alternating numbers. In merge sort, if the two arrays have alternating elements of a sorted array\n",
    "# Every element will have to be compared atleast once and create the maximum comparisons. \n",
    "\n",
    "# [1,2,3,4,5,6,7,8]\n",
    "# [1,3,5,7] [2,4,6,8]\n",
    "#[1,5][3,7] [2,6][4,8]\n",
    "\n",
    "import math\n",
    "\n",
    "def join(arr,left,right,start,mid,end):\n",
    "    n1 = mid - start + 1\n",
    "    n2 = end - mid\n",
    "    i = 0    \n",
    "    j = 0     \n",
    " \n",
    "    while i < n1: #join the elements together like merge sort.\n",
    "        arr[i] = left[i] \n",
    "        i += 1\n",
    "    while j < n2: \n",
    "        arr[i+j] = right[j] \n",
    "        j += 1\n",
    "        \n",
    "def split(arr,left,right,start,mid,end):\n",
    "    n1 = mid - start +1\n",
    "    n2 = end - mid\n",
    "    for i in range(0,n1): # create left array with alternating elements\n",
    "        left[i] = arr[i * 2]\n",
    "    for i in range(0,n2): #create right array with alternating elements\n",
    "        right[i] =  arr[i * 2+1]     \n",
    "\n",
    "def worst_case(arr,start,end):\n",
    "    if (start < end):\n",
    "        mid = (start+(end)) // 2\n",
    "        mid = math.ceil(mid)\n",
    "        left = [0]*(mid - start+1)\n",
    "        right = [0]*(end - mid)\n",
    "        split(arr,left,right,start,mid,end)\n",
    "        worst_case(left,start,mid)\n",
    "        worst_case(right,mid+1,end)\n",
    "        join(arr, left, right, start, mid, end);\n",
    "        return arr\n",
    "        \n",
    "\n",
    "\n",
    "arr = [1,2,3,4,5,6,7,8]\n",
    "worst_case(arr,0,len(arr)-1)\n",
    "print(arr)"
   ]
  },
  {
   "cell_type": "markdown",
   "metadata": {},
   "source": [
    "### Complexity Analysis of Merge Sort\n",
    "\n",
    "__Todo: explain what the worst and average cases are. Explain how you would craft inputs for the worst case __\n",
    "\n",
    "Merge sort dived the input into two halves and then calls on itself for the two halves and then merges the two sorted halves together. Merg is called at the end of the function which runs in n time. Merge consists of 3 while loops of which will first move the smaller elements to the front between the two arrays. \n",
    "\n",
    "Recurrence Relation\n",
    "T(n) = T(n/2)+T(n/2)+n\n",
    "T(n) = 2T(n/2)+n\n",
    "\n",
    "The Average and worst case for merge sort will be both $\\Theta(nlogn)$ but you can create a permutation of elements that will force merge sort to compare every element in the array. If two sub arrays have alternating elements of a sorted array, during merge all elements will have to be compared. If you follow that logic recursively down to their base pairs, the logic holds up. This wont change the asymptotic complexity but will cause the sort to run slightly slower\n",
    "\n",
    "example array:\n",
    "\n",
    "[1,2,3,4,5,6,7,8]\n",
    "\n",
    "[1,3,5,7] [2,4,6,8]\n",
    "\n",
    "[1,5][3,7] [2,6][4,8]\n"
   ]
  },
  {
   "cell_type": "code",
   "execution_count": 212,
   "metadata": {
    "scrolled": true
   },
   "outputs": [
    {
     "data": {
      "image/png": "[encoded data removed]",
      "text/plain": [
       "<Figure size 432x288 with 1 Axes>"
      ]
     },
     "metadata": {
      "needs_background": "light"
     },
     "output_type": "display_data"
    }
   ],
   "source": [
    "## WRITE CODE HERE TO GENERATE WORST CASE and AVERAGE CASE INPUTS/PLOT\n",
    "## You may cut and paste from code we provided or directly call them\n",
    "\n",
    "import random\n",
    "\n",
    "# CODE TO GENERATE WORST CASE\n",
    "array_sizes = range(5, 100, 5)\n",
    "\n",
    "# Code for creating an already sorted array\n",
    "def create_ascending_sorted_array(a_size):\n",
    "    a = []\n",
    "    for i in range(a_size):\n",
    "        a.append(i)\n",
    "    return a\n",
    "\n",
    "# Code for creating a random array\n",
    "def create_random_shuffled_array(a_size):\n",
    "    a = list(range(a_size))\n",
    "    random.shuffle(a)\n",
    "    return a\n",
    "\n",
    "# Code for running sorting and generating number of compares\n",
    "num_compares_wc = []\n",
    "for n in array_sizes:\n",
    "    p = create_ascending_sorted_array(n)\n",
    "    a = worst_case(p,0,len(p)-1)\n",
    "    nc = merge_sort(a)\n",
    "    num_compares_wc.append(nc)\n",
    "    \n",
    "# Randomized comparisons\n",
    "num_compares_random = []\n",
    "num_trials = 1000\n",
    "for n in array_sizes:\n",
    "    total = 0\n",
    "    for m in range(num_trials):\n",
    "        a = create_random_shuffled_array(n)\n",
    "        nc = merge_sort(a)\n",
    "        total = total + nc\n",
    "    avg = total / num_trials\n",
    "    num_compares_random.append(avg)\n",
    "    \n",
    "# Code for plotting\n",
    "plt.plot(array_sizes, num_compares_wc, label='Worst Case')\n",
    "plt.plot(array_sizes, num_compares_random, label='Average Case')\n",
    "plt.legend(['Worst Case', 'Average Case'])\n",
    "plt.title('Merge Sort (Worst and Average Cases)')\n",
    "plt.xlabel('Array Size')\n",
    "plt.ylabel('Number of Comparisons')\n",
    "\n",
    "plt.show()"
   ]
  },
  {
   "cell_type": "markdown",
   "metadata": {},
   "source": [
    "----\n",
    "### Quick Sort\n"
   ]
  },
  {
   "cell_type": "code",
   "execution_count": 158,
   "metadata": {},
   "outputs": [],
   "source": [
    "def partition(arr,start,end):\n",
    "    i = start - 1\n",
    "    j = start\n",
    "    counter = 0\n",
    "    pivot = arr[end]\n",
    "    while(j <= end): #Lumotos Partitioning Scheme\n",
    "        counter +=1\n",
    "        if arr[j] < pivot:\n",
    "            arr[i+1], arr[j] = arr[j], arr[i+1]\n",
    "            i += 1\n",
    "            j+=1\n",
    "        else:\n",
    "            j+=1\n",
    "    arr[i+1], arr[end] = arr[end], arr[i+1]\n",
    "    i+=1\n",
    "    return i, counter"
   ]
  },
  {
   "cell_type": "code",
   "execution_count": 159,
   "metadata": {},
   "outputs": [],
   "source": [
    "# not used in algorithm. Wouldnt show worst case. \n",
    "def random_partition(arr,start,end):\n",
    "    i = random.randrange(start,end)\n",
    "    arr[end], arr[i] = arr[i], arr[end]\n",
    "    return partition(arr,start,end)"
   ]
  },
  {
   "cell_type": "code",
   "execution_count": 160,
   "metadata": {},
   "outputs": [],
   "source": [
    "def _quick_sort(arr,start,end):\n",
    "    counter = 0\n",
    "    if start < end:\n",
    "        p, counter = partition(arr,start,end)\n",
    "        counter += _quick_sort(arr,start,p-1)\n",
    "        counter += _quick_sort(arr,p+1,end)\n",
    "    return counter"
   ]
  },
  {
   "cell_type": "code",
   "execution_count": 161,
   "metadata": {},
   "outputs": [],
   "source": [
    "def quick_sort(arr, start=None, end=None):\n",
    "    # Implement code for quick sort\n",
    "    # Must sort the array a in place\n",
    "    # Must return the number of comparisons\n",
    "    if start is None:\n",
    "        start = 0\n",
    "    if end is None:\n",
    "        end = len(arr)-1\n",
    "    return _quick_sort(arr,start,end) # you can implement it how you wish"
   ]
  },
  {
   "cell_type": "markdown",
   "metadata": {},
   "source": [
    "### Complexity Analysis of Quick Sort\n",
    "\n",
    "Quick sort consists of picking a pivot element out of the array and moving the smaller elements to the left side of the pivot and moving the larger elements to the right. You recursively repeat these steps on the left and right side of the array until sorted. \n",
    "\n",
    "The worst case for Quick sort would be a time complexity of $\\Theta(n^2)$ . That would happen when you are trying to sort an already sorted array with either the largest of smallest element used as a pivot. This would create a very unblanced partion and the recursion tree will run very deep. The first loop will have (n-1) comparisons in the first partition. when you recrusively call quicksort the summuation of all the comparisions will equal $\\sum_{i=1}^{n-1} i = \\frac{n(n-1)}{2}$ or $\\Theta(n^2)$\n",
    "\n",
    "If the array is perfectly randomized or lets say the pivot element chosen is the median of what will be the sorted array, the partioning of the array will be very balanced. For each recursive function there will be $2^i$ $(\\frac{n}{2^{i}} - 1)$ comparisons. The total comparisions will be $\\sum_{i=0}^{log(n)-1}$ $2^i$ $(\\frac{n}{2^{i}} - 1)$. That reduces down to nlog(n) - n + 1 or $\\Theta(nlog(n))$"
   ]
  },
  {
   "cell_type": "code",
   "execution_count": 164,
   "metadata": {},
   "outputs": [
    {
     "data": {
      "image/png": "[encoded data removed]",
      "text/plain": [
       "<Figure size 432x288 with 1 Axes>"
      ]
     },
     "metadata": {
      "needs_background": "light"
     },
     "output_type": "display_data"
    }
   ],
   "source": [
    "## WRITE CODE HERE TO GENERATE WORST CASE and AVERAGE CASE INPUTS/PLOT\n",
    "## You may cut and paste from code we provided or directly call them\n",
    "import random\n",
    "\n",
    "# CODE TO GENERATE WORST CASE\n",
    "array_sizes = range(5, 100, 5)\n",
    "\n",
    "# Code for creating an already sorted array\n",
    "\n",
    "def create_worst_case_list(a_size): #swap smalled element with last index. \n",
    "    a = list(range(a_size))\n",
    "    a[0],a[len(a)-1] = a[len(a)-1],a[0]\n",
    "    return a\n",
    "\n",
    "# Code for creating a random array\n",
    "def create_random_shuffled_array(a_size):\n",
    "    a = list(range(a_size))\n",
    "    random.shuffle(a)\n",
    "    return a\n",
    "\n",
    "\n",
    "# Code for running sorting and generating number of compares\n",
    "num_compares_wc = []\n",
    "for n in array_sizes:\n",
    "    a = create_worst_case_list(n)\n",
    "    nc = quick_sort(a)\n",
    "    num_compares_wc.append(nc)\n",
    "    \n",
    "# Randomized comparisons\n",
    "num_compares_random = []\n",
    "num_trials = 1000\n",
    "for n in array_sizes:\n",
    "    total = 0\n",
    "    for m in range(num_trials):\n",
    "        a = create_random_shuffled_array(n)\n",
    "        nc = quick_sort(a)\n",
    "        total = total + nc\n",
    "    avg = total / num_trials\n",
    "    num_compares_random.append(avg)\n",
    "    \n",
    "# Code for plotting\n",
    "plt.plot(array_sizes, num_compares_wc, label='Worst Case')\n",
    "plt.plot(array_sizes, num_compares_random, label='Average Case')\n",
    "plt.legend(['Worst Case', 'Average Case'])\n",
    "plt.title('Quick sort (Worst and Average Cases)')\n",
    "plt.xlabel('Array Size')\n",
    "plt.ylabel('Number of Comparisons')\n",
    "\n",
    "plt.show()"
   ]
  },
  {
   "cell_type": "markdown",
   "metadata": {},
   "source": [
    "-----\n",
    "## Testing Code: Do not edit\n",
    "\n"
   ]
  },
  {
   "cell_type": "code",
   "execution_count": 165,
   "metadata": {},
   "outputs": [],
   "source": [
    "def test_sorting_algorithm(sort_fun, sz, num_trials):\n",
    "    num_passed = 0\n",
    "    for i in range(num_trials):\n",
    "        a = create_random_shuffled_array(sz)\n",
    "        a_orig = list(a) # make a copy\n",
    "        b = sorted(a)\n",
    "        nc = sort_fun(a)\n",
    "        if a == b:\n",
    "            num_passed = num_passed + 1\n",
    "        else:\n",
    "            print('----')\n",
    "            print('FAILED: Input = ', a_orig)\n",
    "            print('Expected: ', b)\n",
    "            print('Obtained:', a)\n",
    "            print('----')\n",
    "    print('Num Trials = ', num_trials)\n",
    "    print('Num Passed = ', num_passed)"
   ]
  },
  {
   "cell_type": "code",
   "execution_count": 166,
   "metadata": {},
   "outputs": [
    {
     "name": "stdout",
     "output_type": "stream",
     "text": [
      "Num Trials =  100\n",
      "Num Passed =  100\n"
     ]
    }
   ],
   "source": [
    "test_sorting_algorithm(simple_sort, 50, 100)"
   ]
  },
  {
   "cell_type": "code",
   "execution_count": 167,
   "metadata": {},
   "outputs": [
    {
     "name": "stdout",
     "output_type": "stream",
     "text": [
      "Num Trials =  10\n",
      "Num Passed =  10\n"
     ]
    }
   ],
   "source": [
    "test_sorting_algorithm(bubble_sort, 10, 10)"
   ]
  },
  {
   "cell_type": "code",
   "execution_count": 168,
   "metadata": {},
   "outputs": [
    {
     "name": "stdout",
     "output_type": "stream",
     "text": [
      "Num Trials =  10\n",
      "Num Passed =  10\n"
     ]
    }
   ],
   "source": [
    "test_sorting_algorithm(merge_sort, 10, 10)"
   ]
  },
  {
   "cell_type": "code",
   "execution_count": 169,
   "metadata": {},
   "outputs": [
    {
     "name": "stdout",
     "output_type": "stream",
     "text": [
      "Num Trials =  10\n",
      "Num Passed =  10\n"
     ]
    }
   ],
   "source": [
    "test_sorting_algorithm(quick_sort, 10, 10)"
   ]
  },
  {
   "cell_type": "code",
   "execution_count": 206,
   "metadata": {},
   "outputs": [
    {
     "name": "stdout",
     "output_type": "stream",
     "text": [
      "45\n",
      "sorted Array: \n",
      "1\n",
      "2\n",
      "3\n",
      "4\n",
      "5\n",
      "6\n",
      "7\n",
      "8\n",
      "9\n",
      "10\n"
     ]
    }
   ],
   "source": [
    "arr = [10,9,8,7,6,5,4,3,2,1]\n",
    "print(bubble_sort(arr))\n",
    "print(\"sorted Array: \")\n",
    "for i in range(len(arr)):\n",
    "    print(\"%d\" %arr[i])"
   ]
  },
  {
   "cell_type": "code",
   "execution_count": 207,
   "metadata": {},
   "outputs": [
    {
     "name": "stdout",
     "output_type": "stream",
     "text": [
      "the length of array :  16\n",
      "Given array is\n",
      "1 9 5 13 3 11 7 15 2 10 6 14 4 12 8 16 \n",
      "Sorted array is: \n",
      "1 2 3 4 5 6 7 8 9 10 11 12 13 14 15 16 \n",
      "The number of comparisons are :  49\n",
      "the length of array :  16\n",
      "Given array is\n",
      "1 2 3 4 5 6 7 8 9 10 11 12 13 14 15 16 \n",
      "Sorted array is: \n",
      "1 2 3 4 5 6 7 8 9 10 11 12 13 14 15 16 \n",
      "The number of comparisons are :  32\n"
     ]
    }
   ],
   "source": [
    "def printList(arr):\n",
    "    for i in range(len(arr)):\n",
    "        print(arr[i], end=\" \")\n",
    "    print()\n",
    " \n",
    " \n",
    "# Driver Code\n",
    "if __name__ == '__main__':\n",
    "    # CODE TO GENERATE WORST CASE\n",
    "#     arr = [51, 4, 48, 49, 47, 40, 0, 65, 36, 25, 93, 80, 62, 38, 17, 60, 78, 77, 11, 1, 68, 56, 18, 73, 67, 16, 22, 57, 7, 89, 92, 69, 76, 63, 84, 72, 13, 8, 74, 88, 29, 33, 37, 59, 14, 10, 28, 23, 64, 5, 21, 86, 79, 87, 50, 12, 94, 52, 6, 61, 43, 34, 45, 44, 9, 35, 46, 32, 15, 2, 71, 70, 30, 24, 91, 75, 19, 31, 66, 42, 20, 3, 55, 58, 83, 39, 41, 85, 54, 90, 26, 27, 82, 53, 81]\n",
    "    arr = [1, 9, 5, 13, 3, 11, 7, 15, 2, 10, 6, \n",
    " 14, 4, 12, 8, 16]\n",
    "    arr2 = [1,2,3,4,5,6,7,8,9,10,11,12,13,14,15,16]\n",
    "    print(\"the length of array : \", len(arr))\n",
    "    print(\"Given array is\", end=\"\\n\")\n",
    "    printList(arr)\n",
    "    num_compares = merge_sort(arr)\n",
    "    print(\"Sorted array is: \", end=\"\\n\")\n",
    "    printList(arr)\n",
    "    print(\"The number of comparisons are : \", num_compares)\n",
    "    \n",
    "    print(\"the length of array : \", len(arr))\n",
    "    print(\"Given array is\", end=\"\\n\")\n",
    "    printList(arr)\n",
    "    num_compares = merge_sort(arr2)\n",
    "    print(\"Sorted array is: \", end=\"\\n\")\n",
    "    printList(arr)\n",
    "    print(\"The number of comparisons are : \", num_compares)"
   ]
  },
  {
   "cell_type": "code",
   "execution_count": null,
   "metadata": {},
   "outputs": [],
   "source": []
  }
 ],
 "metadata": {
  "kernelspec": {
   "display_name": "Python 3",
   "language": "python",
   "name": "python3"
  },
  "language_info": {
   "codemirror_mode": {
    "name": "ipython",
    "version": 3
   },
   "file_extension": ".py",
   "mimetype": "text/x-python",
   "name": "python",
   "nbconvert_exporter": "python",
   "pygments_lexer": "ipython3",
   "version": "3.8.5"
  }
 },
 "nbformat": 4,
 "nbformat_minor": 2
}
