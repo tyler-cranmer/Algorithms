{
 "cells": [
  {
   "cell_type": "markdown",
   "metadata": {
    "deletable": false,
    "editable": false,
    "nbgrader": {
     "checksum": "9d050f4ea2fe4ec257d2203c783e5325",
     "grade": false,
     "grade_id": "cell-0b121a73255bed02",
     "locked": true,
     "schema_version": 1,
     "solution": false
    }
   },
   "source": [
    "# CSPB 3104 Assignment 3:"
   ]
  },
  {
   "cell_type": "markdown",
   "metadata": {
    "deletable": false,
    "editable": false,
    "nbgrader": {
     "checksum": "452612bc0436a4f1249ba98d43d138be",
     "grade": false,
     "grade_id": "cell-46512401074a6917",
     "locked": true,
     "schema_version": 1,
     "solution": false
    }
   },
   "source": [
    "***\n",
    "# Instructions\n",
    "\n",
    "This assignment is to be completed as a python3 notebook.\n",
    "\n",
    "The questions  provided  below will ask you to either write code or \n",
    "write answers in the form of markdown.\n",
    "\n",
    " Markdown syntax guide is here: [click here](https://github.com/adam-p/markdown-here/wiki/Markdown-Cheatsheet)\n",
    "\n",
    "Using markdown you can typeset formulae using latex.\n",
    "This way you can write nice readable answers with formulae like thus:\n",
    "\n",
    "The algorithm runs in time $\\Theta\\left(n^{2.1\\log_2(\\log_2( n \\log^*(n)))}\\right)$, \n",
    "where $\\log^*(n)$ is the inverse _Ackerman_ function.\n",
    "\n",
    "__Double click anywhere on this box to find out how your instructor typeset it. Press Shift+Enter to go back.__\n",
    "\n",
    "***"
   ]
  },
  {
   "cell_type": "markdown",
   "metadata": {
    "deletable": false,
    "editable": false,
    "nbgrader": {
     "checksum": "73e1fbc3b5c7157f3bef20465999b033",
     "grade": false,
     "grade_id": "cell-1ccdfb3a5473d2c9",
     "locked": true,
     "schema_version": 1,
     "solution": false
    }
   },
   "source": [
    "## Question 1\n",
    "\n",
    "Answer the following questions about heaps.\n",
    "\n",
    "__1(a)__  Write down an algorithm to find the third smallest element in a minheap with more than $3$ elements. You may write pseudocode or english description of the algorithm's steps. What is the running time complexity on a heap of size $n$? * Assume all elements in the heap are distinct *\n",
    "\n",
    "\n",
    "\n",
    "\n"
   ]
  },
  {
   "cell_type": "markdown",
   "metadata": {
    "deletable": false,
    "nbgrader": {
     "checksum": "2a58b73e05a482713e5ec701fa85e11b",
     "grade": true,
     "grade_id": "cell-44e21cce771fd831",
     "locked": false,
     "points": 20,
     "schema_version": 1,
     "solution": true
    }
   },
   "source": [
    "In a min heap, the third smallest element will be in the first 7 elements of the array. Also, the third smallest number will always be in the second half of the array.\n",
    "if array length is less than 7\n",
    "divide array in half.\n",
    "compare the elements in the second half of array with eachother.\n",
    "return the smallest number.\n",
    "if array length is larger than 7. truncate the array to 7 elements.\n",
    "divide array in half.\n",
    "compare the elements in the second half of array with eachother.\n",
    "return the smallest number.\n",
    "\n",
    "The running time would be theta(log n) because we are dividing the list in half to search for the third smallest number.\n",
    "\n",
    "__-5 There's no need to divide the list in half -- just scan the first 7 elements of the list and keep track of which is 3rd smallest.  This is a $\\Theta(1)$ time algorithm.__"
   ]
  },
  {
   "cell_type": "markdown",
   "metadata": {
    "deletable": false,
    "editable": false,
    "nbgrader": {
     "checksum": "777eec29ec9c92175a07e6dd97514191",
     "grade": false,
     "grade_id": "cell-382bd790c682ff35",
     "locked": true,
     "schema_version": 1,
     "solution": false
    }
   },
   "source": [
    "__1(b)__ We wish to find the largest element in a min-heap represented by array $A[1], \\ldots, A[n]$. Show using a series of examples for $n=7$ that any element starting from $A[\\lceil{\\frac{n}{2}}\\rceil], \\ldots, A[n]$ can be the largest element. Your answer should be in the form of 4 min heaps."
   ]
  },
  {
   "cell_type": "markdown",
   "metadata": {
    "deletable": false,
    "nbgrader": {
     "checksum": "405bae515ba31f6e3239219bfb1a6cdf",
     "grade": true,
     "grade_id": "cell-b135c81ce6b4d8b3",
     "locked": false,
     "points": 20,
     "schema_version": 1,
     "solution": true
    }
   },
   "source": [
    "\n",
    "heap 1 = [2,3,7,4,5,9,11]\n",
    "heap 2 = [9,42,30,49,47,37,41]\n",
    "heap 3 = [100,120,115,130,140,125,122]\n",
    "heap 4 = [1,4,5,7,8,9,10]\n",
    "\n",
    "__-5 Heap 1 and 4 have the largest element in the same slot, so you're missing a possibility__"
   ]
  },
  {
   "cell_type": "markdown",
   "metadata": {
    "deletable": false,
    "editable": false,
    "nbgrader": {
     "checksum": "afdea52813d46083340cc7197a734959",
     "grade": false,
     "grade_id": "cell-4672753a75a929f2",
     "locked": true,
     "schema_version": 1,
     "solution": false
    }
   },
   "source": [
    "***\n",
    "## Question 2\n",
    "\n",
    "Suppose you have an array __A__ of *n* distinct elements.\n",
    "\n",
    "The following pseudocode finds the k biggest values of __A__:\n",
    "\n",
    "```\n",
    "Biggest(A, k): \\\\returns an array of the k biggest values of A\n",
    "        mergesort(A)  \n",
    "        return A[n-k, n]\n",
    " ```\n",
    " \n",
    "__2(a)__ What is the complexity of the above algorithm and why?\n",
    "\n"
   ]
  },
  {
   "cell_type": "markdown",
   "metadata": {
    "deletable": false,
    "nbgrader": {
     "checksum": "430a3d8bbf4fc986718a97ee29fc7251",
     "grade": true,
     "grade_id": "cell-1575a845d33f4f18",
     "locked": false,
     "points": 15,
     "schema_version": 1,
     "solution": true
    }
   },
   "source": [
    "$\\Theta$(nlog(n)) - Becuase the running time of mergesort. returning an element in array should run in constant time. "
   ]
  },
  {
   "cell_type": "markdown",
   "metadata": {
    "deletable": false,
    "editable": false,
    "nbgrader": {
     "checksum": "11517f84d1fc563ae06775cf8e9bed77",
     "grade": false,
     "grade_id": "cell-8d54d1cf5d00c3e1",
     "locked": true,
     "schema_version": 1,
     "solution": false
    }
   },
   "source": [
    "__2(b)__ Now suppose that the order of the array was important.  Design and implement an algorithm that returns an array of the k largest elements of __A__ in their original order, and it should run in $\\Theta(nk)$ time.\n",
    "\n",
    "For example, BiggestInOrder([0,5,1,3,4], 3) should return [5,3,4]."
   ]
  },
  {
   "cell_type": "code",
   "execution_count": 1,
   "metadata": {
    "deletable": false,
    "nbgrader": {
     "checksum": "ce703e2dbcacac7bdea744bdfe402f42",
     "grade": false,
     "grade_id": "cell-86e5b5d458fdfe8a",
     "locked": false,
     "schema_version": 1,
     "solution": true
    }
   },
   "outputs": [],
   "source": [
    "def BiggestInOrder(arr, k):\n",
    "    new = []\n",
    "    n = len(arr)\n",
    "    for i in range(n-k):   \n",
    "        for j in range(0, n-1-i): \n",
    "            if arr[j] < arr[j+1] : \n",
    "                arr[j], arr[j+1] = arr[j+1], arr[j]\n",
    "    return arr[0:k]"
   ]
  },
  {
   "cell_type": "markdown",
   "metadata": {},
   "source": [
    "__-10 This doesn't pass the autograder.__"
   ]
  },
  {
   "cell_type": "markdown",
   "metadata": {
    "deletable": false,
    "editable": false,
    "nbgrader": {
     "checksum": "c3a70315d4af5fd2730f9742ca62b2dc",
     "grade": false,
     "grade_id": "cell-a97e8fabdb7f9862",
     "locked": true,
     "schema_version": 1,
     "solution": false
    }
   },
   "source": [
    "__2(c)__ If we don't care about the original ordering, then we can use a heap to design an algorithm that runs faster than the one in part (b).  Design and implement an algorithm that returns an array of the k largest elements of __A__ using a heap."
   ]
  },
  {
   "cell_type": "code",
   "execution_count": 2,
   "metadata": {},
   "outputs": [],
   "source": [
    "# Max Heapify\n",
    "def heapify(arr, i):\n",
    "    largest = i\n",
    "    left = 2 * i + 1\n",
    "    right = 2 * i + 2\n",
    "    n = len(arr)\n",
    "    if(left < n and arr[largest] < arr[left]):\n",
    "        largest = left\n",
    "    if(right < n and arr[largest] <arr[right]):\n",
    "        largest = right\n",
    "    if largest != i:\n",
    "        arr[i],arr[largest] = arr[largest],arr[i]\n",
    "        heapify(arr,largest)"
   ]
  },
  {
   "cell_type": "code",
   "execution_count": 3,
   "metadata": {
    "deletable": false,
    "nbgrader": {
     "checksum": "ab624a8a786a226b7a5c1db9114d7861",
     "grade": false,
     "grade_id": "cell-87b181f2bb909f14",
     "locked": false,
     "schema_version": 1,
     "solution": true
    }
   },
   "outputs": [],
   "source": [
    "def BiggestOutOfOrder(A, k):\n",
    "    for i in range(len(A)//2,-1,-1):\n",
    "        heapify(A,i)\n",
    "    new = []\n",
    "    for j in range(k):\n",
    "        n = len(A)-1\n",
    "        max = A[0]\n",
    "        A[0] = A[n]\n",
    "        A.pop(n)\n",
    "        n = n - 1\n",
    "        heapify(A,0)\n",
    "        new.append(max)\n",
    "    return new"
   ]
  },
  {
   "cell_type": "markdown",
   "metadata": {
    "deletable": false,
    "editable": false,
    "nbgrader": {
     "checksum": "01842f0aca59b154b8c13927ecd8c034",
     "grade": false,
     "grade_id": "cell-999aec4713dd0723",
     "locked": true,
     "schema_version": 1,
     "solution": false
    }
   },
   "source": [
    "__2(d)__  What is the complexity of your algorithm for part (c)?"
   ]
  },
  {
   "cell_type": "markdown",
   "metadata": {
    "deletable": false,
    "nbgrader": {
     "checksum": "d4aca0fb5321791a5cb6a60f69794b68",
     "grade": true,
     "grade_id": "cell-d32a842a63f38af6",
     "locked": false,
     "points": 15,
     "schema_version": 1,
     "solution": true
    }
   },
   "source": [
    "The complexity for Part C would be theta(nlogn). Because Max Heapify runs on T(n) = theta(logn) and building the heap will run in theta(n). extracting the max numbers will be constantant. At first i thought this would be faster than the first algorithm but after analyzig it further. It is not.  \n",
    "\n",
    "__-5 Actually, your code is correct, and runs in $\\Theta(k\\log(n) +n )$ time, as requested (building the heap takes $\\Theta(n)$ time, and you pop the root then fix the heap ($\\Theta(\\log(n))$) k times)__"
   ]
  },
  {
   "cell_type": "markdown",
   "metadata": {
    "deletable": false,
    "editable": false,
    "nbgrader": {
     "checksum": "849d0c1a3727267d0bb2bd7df00d01e6",
     "grade": false,
     "grade_id": "cell-ea68d6420d3528fa",
     "locked": true,
     "schema_version": 1,
     "solution": false
    }
   },
   "source": [
    "---\n",
    "## Testing your solutions -- Do not edit code beyond this point"
   ]
  },
  {
   "cell_type": "code",
   "execution_count": 4,
   "metadata": {
    "deletable": false,
    "editable": false,
    "nbgrader": {
     "checksum": "589162e20d0b32513b6bcdf7d893003c",
     "grade": true,
     "grade_id": "cell-2b3c60ad9c7c88e4",
     "locked": true,
     "points": 15,
     "schema_version": 1,
     "solution": false
    },
    "scrolled": true,
    "tags": [
     "outputPrepend"
    ]
   },
   "outputs": [
    {
     "name": "stdout",
     "output_type": "stream",
     "text": [
      "64] returned :  [85157, 82669] last correct index:  8\n",
      " Code failed for input:  [64254, -69044, -5492, -54057, 82274, 19390, 77522, 65414, 89680, -10724] returned :  [82274, 64254, 77522, 65414, 89680, 19390] last correct index:  8\n",
      " Code failed for input:  [-69097, 11335, -77827, -11709, 54311, 40450, 55331, 41141, 11651, -25451] returned :  [55331, 54311, 41141, 40450] last correct index:  7\n",
      " Code failed for input:  [-8914, 1691, -19226, -24090, -30775, 15979, -2767, 84846, 15415, -45699] returned :  [1691, -8914, -19226, 15979, -2767, 84846, 15415, -24090] last correct index:  8\n",
      " Code failed for input:  [5937, -176, -70919, 21835, 74609, 45257, -90365, -82170, -12318, 62139] returned :  [5937, 21835, 74609, 45257, -176, -70919, -12318, 62139] last correct index:  9\n",
      " Code failed for input:  [60535, 34451, 16493, -24778, -32173, -37132, 41362, -56786, 87483, -2108] returned :  [60535, 34451, 16493, -24778, 41362, -32173, 87483, -2108] last correct index:  9\n",
      " Code failed for input:  [-82907, 80449, 87152, -29209, -28259, -4642, 57781, -97128, -30817, -32653] returned :  [87152, 80449, -4642, 57781, -28259, -29209, -30817] last correct index:  8\n",
      " Code failed for input:  [57692, -66419, -39175, 15581, -54891, 73221, 33124, 28280, 69729, 34545] returned :  [73221, 57692, 33124, 69729, 34545] last correct index:  9\n",
      " Code failed for input:  [-16592, 64784, -89728, 77171, 17566, -76802, 46903, -96034, -71374, -57623] returned :  [64784, 77171, 17566, -16592, 46903, -76802, -71374, -57623] last correct index:  9\n",
      " Code failed for input:  [-92843, 95400, -52759, 46983, -22765, -70632, 5004, 20137, 52634, 5158] returned :  [95400, 46983, 52634, 20137] last correct index:  8\n",
      " Code failed for input:  [71596, -23260, -11983, 89832, -90588, -29975, 49697, 19842, -24904, 93003] returned :  [89832, 71596, 49697, 19842, 93003] last correct index:  9\n",
      " Code failed for input:  [-62640, -31877, -83172, 39117, -47326, 93682, -47781, -1220, -86717, -34396] returned :  [39117, 93682, -31877, -1220, -47326, -34396] last correct index:  9\n",
      " Code failed for input:  [34759, 5406, 30429, -24150, 80320, 88738, 18620, -23624, 75563, -29344] returned :  [88738, 80320, 34759, 75563, 30429] last correct index:  8\n",
      " Code failed for input:  [25576, 38118, -30857, -97325, 36465, -45633, -63321, 85530, 62011, -90785] returned :  [38118, 25576, 36465, -30857, -45633, 85530, 62011, -63321] last correct index:  8\n",
      " Code failed for input:  [-60927, -37980, 24004, -93637, 16404, 94409, -2147, 45649, -2807, 62651] returned :  [94409, 24004, 45649, 16404, 62651] last correct index:  9\n",
      " Code failed for input:  [-34349, -99678, 97931, -2295, 17111, 78423, 95641, -71541, 26770, 35934] returned :  [97931, 17111, 78423, 95641, -2295, 26770, 35934] last correct index:  9\n",
      " Code failed for input:  [75890, 75115, 95642, -20115, -86492, -29430, -82032, -79972, 57375, 22995] returned :  [95642, 75890, 75115, 57375, 22995] last correct index:  9\n",
      " Code failed for input:  [-57289, 64832, 84294, 89943, -10841, 85062, -82404, 20545, 3083, -36352] returned :  [89943, 85062, 84294, 64832] last correct index:  5\n",
      " Code failed for input:  [18388, 20987, 1528, -30568, -45074, -13846, 49101, -57121, -76145, 88046] returned :  [20987, 18388, 1528, -30568, -13846, 49101, -45074, -57121, 88046] last correct index:  9\n",
      " Code failed for input:  [-33644, 3249, -74044, -32222, -77623, 31361, 10540, 96634, -57452, 14770] returned :  [31361, 10540, 96634, 3249, 14770] last correct index:  9\n",
      " Code failed for input:  [-27250, 43024, -54858, -25173, -92304, 71395, -34262, -36641, -91416, -49376] returned :  [43024, -27250, -25173, -54858, 71395, -34262, -36641, -91416, -49376] last correct index:  9\n",
      " Code failed for input:  [87596, -23102, 88526, -36476, 21984, 95427, -95015, 90352, -37836, 61578] returned :  [95427, 90352, 88526] last correct index:  7\n",
      " Code failed for input:  [-17171, 28720, 54344, 961, 10851, 31743, -2317, -36357, 52437, 40450] returned :  [54344, 31743, 28720, 52437, 40450] last correct index:  9\n",
      " Code failed for input:  [84456, 75380, 76435, -94308, 37429, 44579, 32708, 5831, -35783, 82113] returned :  [84456, 76435, 75380, 37429, 44579, 32708, 5831, -35783, 82113] last correct index:  9\n",
      " Code failed for input:  [45137, -46435, 99390, 64856, -79868, 66010, -64409, -7606, 24602, 6409] returned :  [99390, 64856, 45137, 66010, -46435, -7606, 24602, 6409] last correct index:  9\n",
      " Code failed for input:  [17043, -60510, -38932, 19058, 5800, 42508, 25811, 74140, -38953, 43590] returned :  [42508, 25811, 74140, 19058, 43590] last correct index:  9\n",
      " Code failed for input:  [16646, -55678, -23774, -73347, -28317, 81848, -18452, 87707, -80663, -25901] returned :  [16646, -23774, 81848, -18452, 87707, -28317, -25901] last correct index:  9\n",
      " Code failed for input:  [53443, 5677, 65132, -19659, -39278, -40847, 82332, -46025, 51187, -90309] returned :  [53443, 65132, 5677, -19659, -39278, 82332, -40847, 51187, -46025] last correct index:  8\n",
      " Code failed for input:  [-53318, -71637, -48331, -76560, 15588, 51873, -30246, -90637, 65396, -23700] returned :  [-53318, -48331, -71637, 15588, 51873, -30246, -76560, 65396, -23700] last correct index:  9\n",
      " Code failed for input:  [-71379, 25442, -19025, 72912, 65242, 65163, 75189, -79988, -59355, -94281] returned :  [75189, 72912, 65242] last correct index:  6\n",
      " Code failed for input:  [-36429, -36487, 7662, 20423, -78279, 64914, 62765, -33692, -57820, -38077] returned :  [-36429, 7662, 20423, -36487, 64914, 62765, -33692, -57820, -38077] last correct index:  9\n",
      " Code failed for input:  [-61605, -48994, 41466, 76141, -64908, -67249, 13596, 93189, 15671, -95165] returned :  [93189, 76141, 41466] last correct index:  7\n",
      " Code failed for input:  [-35310, 97193, -12739, -95626, -89659, -79560, 39155, 92409, 39445, 89019] returned :  [97193, -12739, -35310, 39155, 92409, 39445, 89019] last correct index:  9\n",
      " Code failed for input:  [-30885, 48719, 95776, -72962, 21212, 43520, -38170, -83361, 71020, 38117] returned :  [95776, 48719, 43520, 21212, -30885, 71020, 38117] last correct index:  9\n",
      " Code failed for input:  [33646, -78959, 73390, -44571, -97268, -75969, 17162, 14764, 5507, 33867] returned :  [73390, 33646, 17162, 14764, 33867] last correct index:  9\n",
      " Code failed for input:  [75744, -98130, -13027, 175, -21387, 44244, -91255, -17256, 30306, 35726] returned :  [75744, 175, -13027, 44244, -21387, -17256, 30306, 35726] last correct index:  9\n",
      " Code failed for input:  [37252, -92226, -84384, 2964, -38651, 87974, -49565, 34854, 45831, -55806] returned :  [37252, 87974, 2964, 34854, 45831, -38651] last correct index:  8\n",
      " Code failed for input:  [37123, 20860, -83438, 33167, 20609, -22558, 9382, -55779, 77783, -50133] returned :  [37123, 33167, 20860, 20609, 77783, 9382] last correct index:  8\n",
      " Code failed for input:  [-77396, 74206, 15077, -11905, 14278, 28829, 74017, -77046, -93445, -33920] returned :  [74206, 28829, 74017, 15077, 14278, -11905] last correct index:  6\n",
      " Code failed for input:  [47115, -27506, 16183, 54344, -63625, 37426, -58190, -66324, -55342, -91322] returned :  [54344, 47115] last correct index:  3\n",
      " Code failed for input:  [-95603, 75725, -613, -29647, -93182, -8575, 92371, -89452, 67143, -8812] returned :  [92371, 75725] last correct index:  6\n",
      " Code failed for input:  [-66458, -23683, -99291, 96232, -85912, -17169, 8736, 54197, -57571, -93852] returned :  [96232, -17169, 8736, 54197, -23683, -57571] last correct index:  8\n",
      " Code failed for input:  [-43499, 39909, 38880, 12266, 47267, 54393, -61548, 7745, 49902, -33188] returned :  [39909, 38880, 47267, 54393, 12266, 7745, 49902, -33188] last correct index:  9\n",
      " Code failed for input:  [-60471, 92574, 58342, 81405, -95321, -99688, 17638, 99192, -44130, -64639] returned :  [92574, 81405, 58342, 17638, 99192, -44130, -60471] last correct index:  8\n",
      " Code failed for input:  [-59439, -41961, -77011, -69904, 92754, 32490, -51791, 69431, 23893, -80817] returned :  [-41961, -59439, -69904, 92754, 32490, -51791, 69431, 23893, -77011] last correct index:  8\n",
      " Code failed for input:  [72770, 7090, -56298, -24284, 2695, -93812, 26804, 56056, -33644, 72058] returned :  [72770, 56056, 26804, 72058] last correct index:  9\n",
      " Code failed for input:  [71716, 86221, -89397, -57093, 95047, 57231, -8284, 37673, 21967, -81328] returned :  [95047, 86221] last correct index:  4\n",
      " Code failed for input:  [-31358, 69819, -26264, -73571, -6406, 9853, 41261, 84036, 38171, 66108] returned :  [84036, 69819, 66108] last correct index:  9\n",
      " Code failed for input:  [21539, 34612, -2601, 21998, -1422, -58796, -30154, 99025, 86725, -48789] returned :  [34612, 99025, 86725, 21998] last correct index:  8\n",
      " Code failed for input:  [40865, 19329, 14247, -17742, -68358, -94435, 50897, -73664, -95611, -67585] returned :  [40865, 19329, 50897, 14247, -17742, -67585] last correct index:  9\n",
      " Code failed for input:  [2790, -25095, -11395, 17243, 3689, -65825, -68112, -98785, -33592, -94623] returned :  [17243, 3689, 2790] last correct index:  4\n",
      " Code failed for input:  [51710, 46836, -46497, 64022, 24670, -12441, -52127, 23175, 41578, -20343] returned :  [64022, 51710, 46836, 41578, 24670] last correct index:  8\n",
      " Code failed for input:  [-59480, 72646, 9445, -26113, 44223, 17202, 57742, -72062, 85071, -68820] returned :  [72646, 44223, 17202, 57742, 9445, 85071, -26113] last correct index:  8\n",
      " Code failed for input:  [-73554, -69472, -84455, -53612, 72748, 78566, -4438, -81447, -37344, -45485] returned :  [-69472, -53612, 72748, 78566, -4438, -73554, -37344, -45485] last correct index:  9\n",
      " Code failed for input:  [1309, 39855, 64027, -33428, 78009, -46837, 16253, -95375, 96701, 55299] returned :  [64027, 78009, 39855, 16253, 1309, 96701, 55299] last correct index:  9\n",
      " Code failed for input:  [70838, 86215, 753, 16229, -38598, 57892, 82349, -56328, -16019, -31367] returned :  [86215, 82349, 70838] last correct index:  6\n",
      " Code failed for input:  [-20994, -7827, 26456, -60031, -74470, 32483, -29245, 7863, -70581, 24950] returned :  [-7827, 26456, -20994, -60031, 32483, -29245, 7863, -70581, 24950] last correct index:  9\n",
      " Code failed for input:  [-21521, 94176, -46231, 75720, 29764, -96040, -80128, -22917, -94420, 40238] returned :  [94176, 75720, 29764, -21521, -22917, -46231, 40238] last correct index:  9\n",
      " Code failed for input:  [-41769, -3818, 48109, -81573, -52255, -34398, -28260, 1776, -42310, -69249] returned :  [48109, 1776, -3818, -28260] last correct index:  7\n",
      " Code failed for input:  [18133, 97373, 38717, -40032, 6905, 21955, 22343, -21176, -40553, 96829] returned :  [97373, 38717, 18133, 6905, 21955, 22343, -21176, -40032, 96829] last correct index:  9\n",
      " Code failed for input:  [-31455, 25620, -37749, -53406, -88605, -3044, 64417, 1222, -53137, -5426] returned :  [25620, -31455, -37749, -3044, 64417, 1222, -53137, -5426] last correct index:  9\n",
      " Code failed for input:  [30356, 54842, 28574, 26085, -12224, -27122, -63404, 58302, -20664, -73552] returned :  [58302, 54842] last correct index:  7\n",
      " Code failed for input:  [56562, -48544, -75281, 57322, 20392, -81389, 65083, 37954, 73573, 34258] returned :  [57322, 56562, 20392, 65083, 37954, 73573, 34258] last correct index:  9\n",
      " Code failed for input:  [-89921, -79340, 81374, -13836, -60918, 20178, -36393, 68118, 198, -48734] returned :  [81374, 20178, -13836, 68118, 198, -36393] last correct index:  8\n",
      " Code failed for input:  [-81330, -10793, 57977, 49386, 53537, -4520, 4960, 68072, 87534, -97345] returned :  [57977, 68072, 87534, 53537] last correct index:  8\n",
      " Code failed for input:  [-82950, -31755, 83489, 41234, -43749, 33073, 74794, 62949, 34458, -56879] returned :  [83489, 41234, 33073, 74794, 62949, 34458, -31755] last correct index:  8\n",
      " Code failed for input:  [-68489, 46418, 31880, 82543, 19129, -86638, -36449, -79229, -76054, -13864] returned :  [82543, 46418, 31880, 19129, -36449, -68489, -13864] last correct index:  9\n",
      " Code failed for input:  [26748, -39255, 43189, 99191, -93162, 94768, -11729, 77849, -48439, 38842] returned :  [99191, 94768, 77849, 43189] last correct index:  7\n",
      " Code failed for input:  [45801, 93366, -6793, 82125, 50362, -26741, 16015, 75654, -13910, -67585] returned :  [93366, 82125, 75654, 50362, 45801] last correct index:  7\n",
      " Code failed for input:  [30861, -17529, -61994, 87809, 26973, 3459, 40818, -20759, -35962, 35603] returned :  [87809, 40818, 30861, 35603] last correct index:  9\n",
      " Code failed for input:  [994, -73871, -85249, -95789, -9562, -73108, -44956, -32469, 94383, -17134] returned :  [94383, 994] last correct index:  8\n",
      " Code failed for input:  [20914, 59226, -51555, 18809, 39022, 31393, 85614, -93810, 60217, -23393] returned :  [59226, 39022, 31393, 85614, 20914, 60217, 18809] last correct index:  8\n",
      " Code failed for input:  [-86665, -9700, -73139, -30608, 57205, 6582, -88787, 38710, 66330, -62601] returned :  [-9700, 57205, 6582, -30608, 38710, 66330, -62601] last correct index:  9\n",
      " Code failed for input:  [-68409, -46871, 56376, 3105, 54918, 30808, 28006, -91612, 61019, -34875] returned :  [-46871, 56376, 3105, 54918, 30808, 28006, -68409, 61019, -34875] last correct index:  9\n",
      " Code failed for input:  [-83482, 27634, -59387, 56461, -89110, 21536, 79046, -43499, 25664, -91419] returned :  [79046, 56461, 27634] last correct index:  6\n",
      " Code failed for input:  [-65250, 20836, -48098, -18897, -3109, 23220, -88393, 77141, 43141, 37552] returned :  [20836, 23220, -3109, 77141, 43141, 37552] last correct index:  9\n",
      " Code failed for input:  [42269, -85042, -54797, 95937, -60869, 94005, 62302, -88643, 50528, 14546] returned :  [95937, 94005, 62302, 42269, 50528, 14546] last correct index:  9\n",
      " Code failed for input:  [-11962, -46439, -73641, -17593, 90028, -69350, -87777, -44848, -14733, 93153] returned :  [-11962, 90028, -17593, -46439, -44848, -14733, 93153] last correct index:  9\n",
      " Code failed for input:  [-35042, 34449, -62426, 9993, 39099, 73115, -56836, -55336, 75957, -69848] returned :  [39099, 73115, 34449, 9993, 75957, -35042] last correct index:  8\n",
      " Code failed for input:  [-20854, -32515, 3229, 6273, 64598, -90759, 61367, -571, 65588, -9443] returned :  [65588, 64598] last correct index:  8\n",
      " Code failed for input:  [52476, 10596, 42912, 77717, 97542, 71781, -34860, 55745, 51526, 26205] returned :  [97542, 77717, 71781, 55745, 52476] last correct index:  7\n",
      " Code failed for input:  [92764, -13559, -23805, -51415, -69614, 69109, -27875, 25972, 64326, -80077] returned :  [92764, -13559, -23805, 69109, -27875, 25972, 64326, -51415] last correct index:  8\n",
      " Code failed for input:  [24614, -14532, 69220, -29303, 38367, -60174, -66786, -35421, 8692, -70834] returned :  [69220, 24614, 38367, -14532, -29303, -35421, 8692, -60174] last correct index:  8\n",
      " Code failed for input:  [-21697, -62197, -44231, -62755, 69392, -46038, 85212, 65489, -18215, -87820] returned :  [85212, 69392] last correct index:  6\n",
      " Code failed for input:  [-35604, 65122, 80363, 72366, -42304, 66910, -24726, -54377, 39330, 95063] returned :  [80363, 72366, 66910, 65122, 39330, 95063] last correct index:  9\n",
      " Code failed for input:  [-72125, -88520, 41613, -18432, -17899, 31303, -90660, -42150, 93527, 33980] returned :  [41613, -18432, -17899, 31303, -72125, -42150, 93527, 33980] last correct index:  9\n",
      " Code failed for input:  [-60596, -63652, 67812, 55299, 18245, -5053, -15566, -62042, 46767, -78188] returned :  [67812, 55299, 18245, -5053, -15566, -60596, 46767, -62042] last correct index:  8\n",
      " Code failed for input:  [-52998, 74612, -83487, -78763, 21142, 54113, 42560, -34724, -38220, 50549] returned :  [74612, 54113, 42560, 21142, -34724, 50549] last correct index:  9\n",
      " Code failed for input:  [-31440, -75065, -73817, 95551, 91401, -35583, -76744, -92547, -74942, 72418] returned :  [-31440, 95551, 91401, -35583, -73817, -75065, -74942, 72418] last correct index:  9\n",
      " Code failed for input:  [10951, 65656, 4550, 99759, -71581, 33784, -91085, 14402, 44988, 13944] returned :  [65656, 99759, 10951, 33784, 4550, 14402, 44988, 13944] last correct index:  9\n",
      " Code failed for input:  [-96741, 24110, 34948, 84761, -39952, -63813, -98725, 93035, -18277, -3049] returned :  [84761, 93035, 34948, 24110] last correct index:  7\n",
      " Code failed for input:  [-46528, 10703, 18806, 25974, -27944, 66241, 10804, -10929, -17157, 3498] returned :  [66241, 25974] last correct index:  5\n",
      " Code failed for input:  [-20338, 79140, 61264, -74682, 26975, -56378, 70512, 37749, -2018, 62828] returned :  [79140, 61264, -20338, 26975, -56378, 70512, 37749, -2018, 62828] last correct index:  9\n",
      " Code failed for input:  [48649, -48499, 82476, 77769, -28336, -95271, 43198, -82412, 86328, 84793] returned :  [82476, 77769, 48649, -28336, 43198, -48499, 86328, 84793] last correct index:  9\n",
      " Code failed for input:  [5919, -5131, -92241, 3371, -57084, 66291, -54981, 72707, 74834, -62113] returned :  [5919, 3371, 66291, -5131, 72707, 74834, -54981] last correct index:  8\n",
      " Code failed for input:  [-34674, 44604, 59310, -4213, 9912, -85089, -65771, -62427, 32527, -62179] returned :  [59310, 44604, 32527] last correct index:  8\n",
      " Code failed for input:  [33668, 46693, -69715, -34906, 45710, 62961, 75852, -75207, 69865, 638] returned :  [46693, 33668, -34906, 45710, 62961, 75852, -69715, 69865, 638] last correct index:  9\n",
      " Code failed for input:  [-16560, -23006, 80088, 31501, 89686, 41751, -94479, 28869, -85520, 24355] returned :  [80088, 31501, 89686, 41751, -16560, 28869, -23006, 24355] last correct index:  9\n",
      " Code failed for input:  [-87457, 66227, -65287, 44398, -78639, -73447, -55506, 94211, 4088, -98665] returned :  [66227, -65287, 44398, -78639, -73447, -55506, 94211, 4088, -87457] last correct index:  8\n",
      " Code failed for input:  [-96488, 69467, -42972, 1921, 81853, -79716, 61944, 28712, -2288, 92057] returned :  [81853, 69467, 92057] last correct index:  9\n",
      " Code failed for input:  [-42963, -44790, 75211, -25011, 32834, -51916, -40337, 39016, -79522, 295] returned :  [-42963, 75211, -25011, 32834, -44790, -40337, 39016, -51916, 295] last correct index:  9\n",
      " Code failed for input:  [64579, 88469, 21674, 25725, -73256, 53500, -48901, -92737, -84593, 6489] returned :  [88469, 64579, 25725, 21674, 53500, -48901, -73256, -84593, 6489] last correct index:  9\n",
      " Code failed for input:  [64321, -46024, -97532, 68558, 56123, 95797, 67642, 37889, -33598, 92177] returned :  [95797, 68558, 67642, 92177] last correct index:  9\n",
      " Code failed for input:  [-97216, 66497, -15792, -62337, 29826, -61460, 47289, -9753, -499, 9607] returned :  [66497, 29826, -15792, 47289, -9753, -499, 9607] last correct index:  9\n",
      " Code failed for input:  [-38870, 90033, -92886, 93538, 41333, -20130, 37007, -44354, -78790, -24149] returned :  [93538, 90033] last correct index:  3\n",
      " Code failed for input:  [66440, -38331, 71875, 78166, -69686, 95969, -81419, -37448, -48346, -17360] returned :  [66440, 71875, 78166, -38331, 95969, -69686, -37448, -48346, -17360] last correct index:  9\n",
      " Code failed for input:  [47997, 46253, -16634, -23514, 55236, 10756, -75270, -65128, -7830, 99987] returned :  [47997, 46253, 55236, 10756, -16634, -23514, -7830, 99987] last correct index:  9\n",
      " Code failed for input:  [49796, -19879, -38403, 75359, 91627, 11196, -11631, -53210, -38555, 73237] returned :  [49796, -19879, 75359, 91627, 11196, -11631, -38403, -38555, 73237] last correct index:  9\n",
      " Code failed for input:  [97062, 92310, -3502, 3594, 69997, -5560, -29741, 25053, -76348, -41364] returned :  [97062, 92310, 69997, 3594, -3502, 25053, -5560, -29741] last correct index:  7\n",
      " Code failed for input:  [83740, 93748, 52934, 11557, -29069, -33294, 49730, 11409, -36356, -87895] returned :  [93748, 83740, 52934, 49730] last correct index:  6\n",
      " Code failed for input:  [-75666, -76161, -65239, 5464, -19430, 35828, 623, 808, 48917, 31702] returned :  [48917, 35828] last correct index:  8\n",
      " Code failed for input:  [37551, -6924, 31356, -80816, 74206, 55798, -13881, 78409, 63465, -55581] returned :  [74206, 55798, 37551, 78409, 63465, 31356] last correct index:  8\n",
      " num tests  =  10000\n",
      " num passed =  3617\n"
     ]
    }
   ],
   "source": [
    "from random import sample, randint\n",
    "def testBiggestInOrder(n_tests, test_size):\n",
    "    n_passed = 0\n",
    "    n_failed = 0\n",
    "    for i in range(0, n_tests):\n",
    "        a = sample( range(-10 * n_tests,  10 * n_tests ), test_size)\n",
    "        k = randint(1, len(a))\n",
    "        kbiggest = BiggestInOrder(a.copy(), k)\n",
    "        if len(kbiggest) != k:\n",
    "            if n_failed < 10:\n",
    "                print(' Code returns the wrong sized array!')\n",
    "            n_failed += 1\n",
    "            continue\n",
    "        if sorted(kbiggest) != sorted(a)[-k:]:\n",
    "            if n_failed < 10:\n",
    "                print(' Code did not return the ', k, ' biggest elements!')\n",
    "                print(' Code returned ', sorted(kbiggest), ' but we wanted ', sorted(a)[-k:], ' of ', a)\n",
    "            n_failed +=1\n",
    "            continue\n",
    "        currIndex = 0\n",
    "        inOrder = True\n",
    "        for j in range(0, len(kbiggest)):\n",
    "            for l in range(currIndex, len(a)):\n",
    "                if kbiggest[j] == a[l]:\n",
    "                    currIndex = l\n",
    "                    break\n",
    "                if l == len(a) - 1:\n",
    "                    inOrder = False\n",
    "        if inOrder == False:\n",
    "            if n_failed < 10:\n",
    "                print(' Code failed for input: ', a, 'returned : ', kbiggest, 'last correct index: ', currIndex)\n",
    "        else:\n",
    "            n_passed = n_passed + 1\n",
    "\n",
    "    return n_passed\n",
    "\n",
    "n_tests = 10000\n",
    "n_passed = testBiggestInOrder(10000, 10)\n",
    "print(' num tests  = ', n_tests)\n",
    "print(' num passed = ', n_passed)"
   ]
  },
  {
   "cell_type": "code",
   "execution_count": 5,
   "metadata": {
    "deletable": false,
    "editable": false,
    "nbgrader": {
     "checksum": "24fd18759631d9f362a938fc37899124",
     "grade": true,
     "grade_id": "cell-591c09b8573a47b0",
     "locked": true,
     "points": 15,
     "schema_version": 1,
     "solution": false
    }
   },
   "outputs": [
    {
     "name": "stdout",
     "output_type": "stream",
     "text": [
      " num tests  =  10000\n",
      " num passed =  10000\n"
     ]
    }
   ],
   "source": [
    "from random import sample, randint\n",
    "def testBiggestOutOfOrder(n_tests, test_size):\n",
    "    n_passed = 0\n",
    "    n_failed = 0\n",
    "    for i in range(0, n_tests):\n",
    "        a = sample( range(-10 * n_tests,  10 * n_tests ), test_size)\n",
    "        k = randint(1, len(a))\n",
    "        kbiggest = BiggestOutOfOrder(a.copy(), k)\n",
    "        if len(kbiggest) != k:\n",
    "            if n_failed < 10:\n",
    "                print(' Code returns the wrong sized array!')\n",
    "            n_failed += 1\n",
    "            continue\n",
    "        if sorted(kbiggest) != sorted(a)[-k:]:\n",
    "            if n_failed < 10:\n",
    "                print(' Code did not return the ', k, ' biggest elements!')\n",
    "                print(' Code returned ', sorted(kbiggest), ' but we wanted ', sorted(a)[-k:], 'where a is', a)\n",
    "            n_failed += 1\n",
    "            continue\n",
    "        n_passed = n_passed + 1\n",
    "    return n_passed\n",
    "\n",
    "n_tests = 10000\n",
    "n_passed = testBiggestOutOfOrder(10000, 10)\n",
    "print(' num tests  = ', n_tests)\n",
    "print(' num passed = ', n_passed)"
   ]
  },
  {
   "cell_type": "code",
   "execution_count": null,
   "metadata": {},
   "outputs": [],
   "source": []
  },
  {
   "cell_type": "code",
   "execution_count": null,
   "metadata": {},
   "outputs": [],
   "source": []
  }
 ],
 "metadata": {
  "kernelspec": {
   "display_name": "Python 3",
   "language": "python",
   "name": "python3"
  },
  "language_info": {
   "codemirror_mode": {
    "name": "ipython",
    "version": 3
   },
   "file_extension": ".py",
   "mimetype": "text/x-python",
   "name": "python",
   "nbconvert_exporter": "python",
   "pygments_lexer": "ipython3",
   "version": "3.8.5"
  }
 },
 "nbformat": 4,
 "nbformat_minor": 4
}
