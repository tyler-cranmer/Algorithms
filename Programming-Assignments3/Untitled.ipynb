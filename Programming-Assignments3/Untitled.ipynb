{
 "cells": [
  {
   "cell_type": "code",
   "execution_count": 1,
   "id": "ethical-acoustic",
   "metadata": {},
   "outputs": [
    {
     "data": {
      "text/plain": [
       "defined \u001b[32mfunction\u001b[39m \u001b[36mfact\u001b[39m"
      ]
     },
     "execution_count": 1,
     "metadata": {},
     "output_type": "execute_result"
    }
   ],
   "source": [
    "def fact(x: Int): Int = {\n",
    "    if (x == 0) 1\n",
    "    else {\n",
    "        x * (fact(x-1))\n",
    "    }\n",
    "        \n",
    "}"
   ]
  },
  {
   "cell_type": "code",
   "execution_count": 2,
   "id": "regulation-fiber",
   "metadata": {},
   "outputs": [
    {
     "data": {
      "text/plain": [
       "\u001b[36mres1\u001b[39m: \u001b[32mInt\u001b[39m = \u001b[32m24\u001b[39m"
      ]
     },
     "execution_count": 2,
     "metadata": {},
     "output_type": "execute_result"
    }
   ],
   "source": [
    "fact(4)"
   ]
  },
  {
   "cell_type": "code",
   "execution_count": 19,
   "id": "special-turning",
   "metadata": {},
   "outputs": [
    {
     "data": {
      "text/plain": [
       "defined \u001b[32mfunction\u001b[39m \u001b[36mfib\u001b[39m"
      ]
     },
     "execution_count": 19,
     "metadata": {},
     "output_type": "execute_result"
    }
   ],
   "source": [
    "def fib(x: Int): Int = {\n",
    "    if (x == 1 || x == 2) 1\n",
    "    else if (x == 0) 0\n",
    "    else {\n",
    "        fib(x-2) + fib(x-1)\n",
    "    }\n",
    "}"
   ]
  },
  {
   "cell_type": "code",
   "execution_count": 22,
   "id": "suited-trial",
   "metadata": {},
   "outputs": [
    {
     "data": {
      "text/plain": [
       "\u001b[36mres21_0\u001b[39m: \u001b[32mInt\u001b[39m = \u001b[32m0\u001b[39m\n",
       "\u001b[36mres21_1\u001b[39m: \u001b[32mInt\u001b[39m = \u001b[32m1\u001b[39m\n",
       "\u001b[36mres21_2\u001b[39m: \u001b[32mInt\u001b[39m = \u001b[32m1\u001b[39m\n",
       "\u001b[36mres21_3\u001b[39m: \u001b[32mInt\u001b[39m = \u001b[32m2\u001b[39m\n",
       "\u001b[36mres21_4\u001b[39m: \u001b[32mInt\u001b[39m = \u001b[32m3\u001b[39m\n",
       "\u001b[36mres21_5\u001b[39m: \u001b[32mInt\u001b[39m = \u001b[32m5\u001b[39m\n",
       "\u001b[36mres21_6\u001b[39m: \u001b[32mInt\u001b[39m = \u001b[32m8\u001b[39m\n",
       "\u001b[36mres21_7\u001b[39m: \u001b[32mInt\u001b[39m = \u001b[32m13\u001b[39m\n",
       "\u001b[36mres21_8\u001b[39m: \u001b[32mInt\u001b[39m = \u001b[32m21\u001b[39m\n",
       "\u001b[36mres21_9\u001b[39m: \u001b[32mInt\u001b[39m = \u001b[32m34\u001b[39m"
      ]
     },
     "execution_count": 22,
     "metadata": {},
     "output_type": "execute_result"
    }
   ],
   "source": [
    "fib(0)\n",
    "fib(1)\n",
    "fib(2)\n",
    "fib(3)\n",
    "fib(4)\n",
    "fib(5)\n",
    "fib(6)\n",
    "fib(7)\n",
    "fib(8)\n",
    "fib(9)"
   ]
  },
  {
   "cell_type": "code",
   "execution_count": 37,
   "id": "compliant-eugene",
   "metadata": {},
   "outputs": [
    {
     "data": {
      "text/plain": [
       "defined \u001b[32mfunction\u001b[39m \u001b[36misPalindrome\u001b[39m"
      ]
     },
     "execution_count": 37,
     "metadata": {},
     "output_type": "execute_result"
    }
   ],
   "source": [
    "def isPalindrome(s: String): Boolean = { \n",
    "    var temp_string = \"\"\n",
    "    val n = s.size\n",
    "    for (i <- n-1 to 0 by -1)\n",
    "        temp_string = temp_string.concat(s(i).toString)\n",
    "    s == temp_string \n",
    " }"
   ]
  },
  {
   "cell_type": "code",
   "execution_count": 1,
   "id": "forbidden-bulgarian",
   "metadata": {},
   "outputs": [
    {
     "name": "stdout",
     "output_type": "stream",
     "text": [
      "n\n",
      "o\n",
      "m\n",
      "e\n",
      "k\n",
      "o\n",
      "p\n"
     ]
    },
    {
     "data": {
      "text/plain": [
       "\u001b[36ms\u001b[39m: \u001b[32mString\u001b[39m = \u001b[32m\"pokemon\"\u001b[39m\n",
       "\u001b[36mn\u001b[39m: \u001b[32mInt\u001b[39m = \u001b[32m7\u001b[39m"
      ]
     },
     "execution_count": 1,
     "metadata": {},
     "output_type": "execute_result"
    }
   ],
   "source": [
    "var s: String = \"pokemon\";\n",
    "val n = s.size;\n",
    "for (i <- n-1 to 0 by -1)\n",
    "    println(s(i));"
   ]
  },
  {
   "cell_type": "code",
   "execution_count": 38,
   "id": "living-young",
   "metadata": {},
   "outputs": [
    {
     "data": {
      "text/plain": [
       "\u001b[36mres37\u001b[39m: \u001b[32mBoolean\u001b[39m = false"
      ]
     },
     "execution_count": 38,
     "metadata": {},
     "output_type": "execute_result"
    }
   ],
   "source": [
    "isPalindrome(\"hello\")"
   ]
  },
  {
   "cell_type": "code",
   "execution_count": 37,
   "id": "selected-newcastle",
   "metadata": {},
   "outputs": [
    {
     "data": {
      "text/plain": [
       "defined \u001b[32mfunction\u001b[39m \u001b[36misPalindromeRec\u001b[39m"
      ]
     },
     "execution_count": 37,
     "metadata": {},
     "output_type": "execute_result"
    }
   ],
   "source": [
    "def isPalindromeRec(s: String): Boolean= {\n",
    "    val n = s.length();\n",
    "    if ((n == 0 || n == 1) || n == 2 && s.charAt(0) == s.charAt(n-1)) \n",
    "    {\n",
    "        true\n",
    "    }\n",
    "    else if (s.charAt(0) == s.charAt(n-1)){\n",
    "        isPalindromeRec(s.substring(1,n-1))\n",
    "    }\n",
    "    else \n",
    "    {\n",
    "        false\n",
    "    }\n",
    "}"
   ]
  },
  {
   "cell_type": "code",
   "execution_count": 38,
   "id": "completed-silicon",
   "metadata": {},
   "outputs": [
    {
     "data": {
      "text/plain": [
       "\u001b[36mres37\u001b[39m: \u001b[32mBoolean\u001b[39m = true"
      ]
     },
     "execution_count": 38,
     "metadata": {},
     "output_type": "execute_result"
    }
   ],
   "source": [
    "isPalindromeRec(\"\")"
   ]
  },
  {
   "cell_type": "code",
   "execution_count": 78,
   "id": "herbal-reminder",
   "metadata": {},
   "outputs": [
    {
     "data": {
      "text/plain": [
       "\u001b[36mp\u001b[39m: \u001b[32mString\u001b[39m = \u001b[32m\"link\"\u001b[39m\n",
       "\u001b[36ml\u001b[39m: \u001b[32mInt\u001b[39m = \u001b[32m4\u001b[39m\n",
       "\u001b[36mres77_2\u001b[39m: \u001b[32mString\u001b[39m = \u001b[32m\"ink\"\u001b[39m"
      ]
     },
     "execution_count": 78,
     "metadata": {},
     "output_type": "execute_result"
    }
   ],
   "source": [
    "val p = \"link\"\n",
    "val l = p.length();\n",
    "p.substring(1, l)"
   ]
  },
  {
   "cell_type": "code",
   "execution_count": 31,
   "id": "through-details",
   "metadata": {},
   "outputs": [
    {
     "data": {
      "text/plain": [
       "\u001b[36mw\u001b[39m: \u001b[32mString\u001b[39m = \u001b[32m\"\"\u001b[39m\n",
       "\u001b[36mres30_1\u001b[39m: \u001b[32mInt\u001b[39m = \u001b[32m0\u001b[39m"
      ]
     },
     "execution_count": 31,
     "metadata": {},
     "output_type": "execute_result"
    }
   ],
   "source": [
    "val w: String = \"\"\n",
    "w.length()"
   ]
  },
  {
   "cell_type": "code",
   "execution_count": 56,
   "id": "interstate-dinner",
   "metadata": {},
   "outputs": [
    {
     "data": {
      "text/plain": [
       "defined \u001b[32mclass\u001b[39m \u001b[36mRational\u001b[39m"
      ]
     },
     "execution_count": 56,
     "metadata": {},
     "output_type": "execute_result"
    }
   ],
   "source": [
    "class Rational(val n: Int, val d: Int) {\n",
    "    // Implement a pretty printer\n",
    "    override def toString(): String = {\n",
    "        s\"$n/$d\"\n",
    "    }\n",
    "    \n",
    "    def isValid(): Boolean = {\n",
    "        // check if this is a valid fraction.\n",
    "        if (d == 0) false\n",
    "        else true\n",
    "    }\n",
    "    def toDouble(): Double = {\n",
    "        // Convert n/ d to double\n",
    "        // use toDouble method to convert an integer to double\n",
    "       return n.toDouble / d.toDouble\n",
    "    }\n",
    "    \n",
    "    def isInteger(): Boolean = {\n",
    "        // Is this fraction an integer.\n",
    "        // A fraction is an integer if n is divisible by d\n",
    "      return n % d == 0\n",
    "    }\n",
    "    \n",
    "    def floor(): Double = {\n",
    "        // return the floor of n/d\n",
    "        // math.floor(f) takes the floor of a double precision number in scala\n",
    "        \n",
    "        math.floor(n.toDouble/d.toDouble)\n",
    "    }\n",
    "    \n",
    "    \n",
    "    def rationalEquals(r: Rational): Boolean = {\n",
    "        // Check if this equals r\n",
    "        ??? // YOUR CODE HERE\n",
    "    }\n",
    "    \n",
    "    \n",
    "    \n",
    "    def + (r: Rational) : Rational = {\n",
    "        // Add two rationals and return a new Rational\n",
    "        ??? // YOUR CODE HERE\n",
    "    }\n",
    "    \n",
    "    def - (r: Rational): Rational = {\n",
    "        // compute this - r and return a new Rational\n",
    "        ??? // YOUR CODE HERE\n",
    "    }\n",
    "    \n",
    "    def * (r: Rational): Rational = {\n",
    "        // multiply two rationals and return a new Rational\n",
    "        ??? // YOUR CODE HERE\n",
    "    }\n",
    "    \n",
    "    def / (r: Rational): Rational = {\n",
    "        // compute this/r and return a new Rational\n",
    "        ??? // YOUR CODE HERE\n",
    "    }\n",
    "    \n",
    "    // We can use your rationalEquals method to overide the == operator as follows\n",
    "    // Ignore this method for now -- it will be clearer soon\n",
    "    override def equals(r: Any): Boolean = r match {\n",
    "        case rat: Rational => this.rationalEquals(rat) \n",
    "        case _ => false\n",
    "    }\n",
    "    // END Ignore   \n",
    "}"
   ]
  },
  {
   "cell_type": "code",
   "execution_count": 57,
   "id": "crazy-anger",
   "metadata": {},
   "outputs": [
    {
     "data": {
      "text/plain": [
       "\u001b[36mres56\u001b[39m: \u001b[32mDouble\u001b[39m = \u001b[32m-9.0\u001b[39m"
      ]
     },
     "execution_count": 57,
     "metadata": {},
     "output_type": "execute_result"
    }
   ],
   "source": [
    "new Rational(-25, 3).floor()"
   ]
  },
  {
   "cell_type": "code",
   "execution_count": 58,
   "id": "committed-jenny",
   "metadata": {},
   "outputs": [
    {
     "data": {
      "text/plain": [
       "\u001b[36mres57\u001b[39m: \u001b[32mInt\u001b[39m = \u001b[32m10\u001b[39m"
      ]
     },
     "execution_count": 58,
     "metadata": {},
     "output_type": "execute_result"
    }
   ],
   "source": [
    "5 + 5"
   ]
  },
  {
   "cell_type": "code",
   "execution_count": null,
   "id": "established-freight",
   "metadata": {},
   "outputs": [],
   "source": []
  }
 ],
 "metadata": {
  "kernelspec": {
   "display_name": "Scala",
   "language": "scala",
   "name": "scala"
  },
  "language_info": {
   "codemirror_mode": "text/x-scala",
   "file_extension": ".scala",
   "mimetype": "text/x-scala",
   "name": "scala",
   "nbconvert_exporter": "script",
   "version": "2.12.11"
  }
 },
 "nbformat": 4,
 "nbformat_minor": 5
}
