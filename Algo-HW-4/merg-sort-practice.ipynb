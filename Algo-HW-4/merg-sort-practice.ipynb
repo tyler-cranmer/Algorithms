{
 "cells": [
  {
   "cell_type": "code",
   "execution_count": 37,
   "id": "numerical-generator",
   "metadata": {},
   "outputs": [
    {
     "name": "stdout",
     "output_type": "stream",
     "text": [
      "Given array is\n",
      "1 9 5 13 3 11 7 15 2 10 6 14 4 12 8 16 \n",
      "66\n",
      "Sorted array is: \n",
      "1 2 3 4 5 6 7 8 9 10 11 12 13 14 15 16 \n"
     ]
    }
   ],
   "source": [
    "\n",
    "\n",
    "# Python program for implementation of MergeSort\n",
    "def mergeSort(arr):\n",
    "    counter = 0\n",
    "    if len(arr) > 1:\n",
    " \n",
    "         # Finding the mid of the array\n",
    "        mid = len(arr)//2\n",
    " \n",
    "        # Dividing the array elements\n",
    "        L = arr[:mid]\n",
    " \n",
    "        # into 2 halves\n",
    "        R = arr[mid:]\n",
    " \n",
    "        # Sorting the first half\n",
    "        counter += mergeSort(L)\n",
    " \n",
    "        # Sorting the second half\n",
    "        counter += mergeSort(R)\n",
    " \n",
    "        i = j = k = 0\n",
    " \n",
    "        # Copy data to temp arrays L[] and R[]\n",
    "        while i < len(L) and j < len(R):\n",
    "            counter +=1\n",
    "            if L[i] < R[j]:\n",
    "                arr[k] = L[i]\n",
    "                i += 1\n",
    "            else:\n",
    "                counter+=1\n",
    "                arr[k] = R[j]\n",
    "                j += 1\n",
    "            k += 1\n",
    " \n",
    "        # Checking if any element was left\n",
    "        while i < len(L):\n",
    "            arr[k] = L[i]\n",
    "            i += 1\n",
    "            k += 1\n",
    " \n",
    "        while j < len(R):\n",
    "            arr[k] = R[j]\n",
    "            j += 1\n",
    "            k += 1\n",
    "    return counter \n",
    "# Code to print the list\n",
    " \n",
    " \n",
    "def printList(arr):\n",
    "    for i in range(len(arr)):\n",
    "        print(arr[i], end=\" \")\n",
    "    print()\n",
    " \n",
    " \n",
    "# Driver Code\n",
    "if __name__ == '__main__':\n",
    "    arr = [1, 9, 5, 13, 3, 11, 7, 15, 2, 10, 6, 14, 4, 12, 8, 16]\n",
    "    print(\"Given array is\", end=\"\\n\")\n",
    "    printList(arr)\n",
    "    print(mergeSort(arr))\n",
    "    print(\"Sorted array is: \", end=\"\\n\")\n",
    "    printList(arr)\n",
    " \n",
    "# This code is contributed by Mayank Khanna"
   ]
  },
  {
   "cell_type": "code",
   "execution_count": 26,
   "id": "under-campaign",
   "metadata": {},
   "outputs": [
    {
     "name": "stdout",
     "output_type": "stream",
     "text": [
      "([1, 2, 3, 4, 5, 6, 7, 8, 9, 10, 11, 12, 13, 14, 15, 16], 64) 63\n"
     ]
    }
   ],
   "source": [
    "def merge_sort(input_array):\n",
    "    counter = 0\n",
    "\n",
    "    if len(input_array) <= 1:\n",
    "        return input_array, counter\n",
    "\n",
    "    left_part = merge_sort(input_array[:len(input_array) // 2])\n",
    "    right_part = merge_sort(input_array[len(left_part[0]):])\n",
    "\n",
    "    counter += left_part[1] + right_part[1]\n",
    "\n",
    "    left_ndx = 0\n",
    "    right_ndx = 0\n",
    "    final_ndx = 0\n",
    "\n",
    "    while left_ndx < len(left_part[0]) and right_ndx < len(right_part[0]):\n",
    "        counter += 1\n",
    "        if left_part[0][left_ndx] < right_part[0][right_ndx]:\n",
    "            input_array[final_ndx] = left_part[0][left_ndx]\n",
    "            left_ndx += 1\n",
    "        else:\n",
    "            input_array[final_ndx] = right_part[0][right_ndx]\n",
    "            right_ndx += 1\n",
    "        final_ndx += 1\n",
    "\n",
    "    while left_ndx < len(left_part[0]):\n",
    "        input_array[final_ndx] = left_part[0][left_ndx]\n",
    "        left_ndx += 1\n",
    "        final_ndx += 1\n",
    "        counter += 1\n",
    "\n",
    "    while right_ndx < len(right_part[0]):\n",
    "        input_array[final_ndx] = right_part[0][right_ndx]\n",
    "        right_ndx += 1\n",
    "        final_ndx += 1\n",
    "        counter += 1\n",
    "\n",
    "    return input_array, counter\n",
    "\n",
    "\n",
    "lst = [1, 2, 3, 4, 5, 6, 7, 8, 9, 10, 11, 12, \n",
    " 13, 14, 15, 16]\n",
    "# also you don't need to return counter since you are using global value\n",
    "print(merge_sort(lst), counter)"
   ]
  },
  {
   "cell_type": "code",
   "execution_count": 27,
   "id": "regulation-cradle",
   "metadata": {},
   "outputs": [],
   "source": [
    "def merge_sort_recursive(arr,start,end):\n",
    "    num_compares = 0\n",
    "    if start < end:\n",
    "        midpoint = (start+end) // 2\n",
    "        num_compares += merge_sort_recursive(arr,start,midpoint)\n",
    "        num_compares += merge_sort_recursive(arr,midpoint+1,end)\n",
    "        num_compares += merge(arr,start,midpoint,end)\n",
    "        return num_compares\n",
    "    else:\n",
    "        return num_compares"
   ]
  },
  {
   "cell_type": "code",
   "execution_count": 28,
   "id": "prime-percentage",
   "metadata": {},
   "outputs": [],
   "source": [
    "def merge_sort(a):\n",
    "    # Implement the code for merge sort\n",
    "    # Use a function merge_sort_recursive to implement the recursive call\n",
    "    # Be careful in counting number of comparisons since you should include comparisons in the merge part.\n",
    "    # Also: code needs to sort the array a. You may have to copy things over from a temp array back into a.\n",
    "    return merge_sort_recursive(a, 0, len(a)-1)"
   ]
  },
  {
   "cell_type": "code",
   "execution_count": 29,
   "id": "secondary-folks",
   "metadata": {},
   "outputs": [
    {
     "name": "stdout",
     "output_type": "stream",
     "text": [
      "the length of array :  8\n",
      "Given array is\n",
      "0 1 2 3 4 5 6 7 \n",
      "Sorted array is: \n",
      "0 1 2 3 4 5 6 7 \n",
      "The number of comparisons are :  36\n"
     ]
    }
   ],
   "source": [
    "def printList(arr):\n",
    "    for i in range(len(arr)):\n",
    "        print(arr[i], end=\" \")\n",
    "    print()\n",
    " \n",
    " \n",
    "# Driver Code\n",
    "if __name__ == '__main__':\n",
    "    # CODE TO GENERATE WORST CASE\n",
    "#     arr = [51, 4, 48, 49, 47, 40, 0, 65, 36, 25, 93, 80, 62, 38, 17, 60, 78, 77, 11, 1, 68, 56, 18, 73, 67, 16, 22, 57, 7, 89, 92, 69, 76, 63, 84, 72, 13, 8, 74, 88, 29, 33, 37, 59, 14, 10, 28, 23, 64, 5, 21, 86, 79, 87, 50, 12, 94, 52, 6, 61, 43, 34, 45, 44, 9, 35, 46, 32, 15, 2, 71, 70, 30, 24, 91, 75, 19, 31, 66, 42, 20, 3, 55, 58, 83, 39, 41, 85, 54, 90, 26, 27, 82, 53, 81]\n",
    "#     arr = [1, 9, 5, 13, 3, 11, 7, 15, 2, 10, 6, \n",
    "#  14, 4, 12, 8, 16]\n",
    "    arr = [0,1,2,3,4,5,6,7]\n",
    "    print(\"the length of array : \", len(arr))\n",
    "    print(\"Given array is\", end=\"\\n\")\n",
    "    printList(arr)\n",
    "    num_compares = merge_sort(arr)\n",
    "    print(\"Sorted array is: \", end=\"\\n\")\n",
    "    printList(arr)\n",
    "    print(\"The number of comparisons are : \", num_compares)"
   ]
  },
  {
   "cell_type": "code",
   "execution_count": 28,
   "id": "reflected-commerce",
   "metadata": {},
   "outputs": [
    {
     "ename": "IndexError",
     "evalue": "list index out of range",
     "output_type": "error",
     "traceback": [
      "\u001b[0;31m---------------------------------------------------------------------------\u001b[0m",
      "\u001b[0;31mIndexError\u001b[0m                                Traceback (most recent call last)",
      "\u001b[0;32m<ipython-input-28-9057aede2c8f>\u001b[0m in \u001b[0;36m<module>\u001b[0;34m\u001b[0m\n\u001b[1;32m     33\u001b[0m \u001b[0;34m\u001b[0m\u001b[0m\n\u001b[1;32m     34\u001b[0m \u001b[0marr\u001b[0m \u001b[0;34m=\u001b[0m \u001b[0;34m[\u001b[0m\u001b[0;36m1\u001b[0m\u001b[0;34m,\u001b[0m\u001b[0;36m2\u001b[0m\u001b[0;34m,\u001b[0m\u001b[0;36m3\u001b[0m\u001b[0;34m,\u001b[0m\u001b[0;36m4\u001b[0m\u001b[0;34m,\u001b[0m\u001b[0;36m5\u001b[0m\u001b[0;34m]\u001b[0m\u001b[0;34m\u001b[0m\u001b[0;34m\u001b[0m\u001b[0m\n\u001b[0;32m---> 35\u001b[0;31m \u001b[0mworst_case\u001b[0m\u001b[0;34m(\u001b[0m\u001b[0marr\u001b[0m\u001b[0;34m,\u001b[0m\u001b[0;36m0\u001b[0m\u001b[0;34m,\u001b[0m\u001b[0mlen\u001b[0m\u001b[0;34m(\u001b[0m\u001b[0marr\u001b[0m\u001b[0;34m)\u001b[0m\u001b[0;34m-\u001b[0m\u001b[0;36m1\u001b[0m\u001b[0;34m)\u001b[0m\u001b[0;34m\u001b[0m\u001b[0;34m\u001b[0m\u001b[0m\n\u001b[0m\u001b[1;32m     36\u001b[0m \u001b[0mprint\u001b[0m\u001b[0;34m(\u001b[0m\u001b[0marr\u001b[0m\u001b[0;34m)\u001b[0m\u001b[0;34m\u001b[0m\u001b[0;34m\u001b[0m\u001b[0m\n\u001b[1;32m     37\u001b[0m \u001b[0;31m# [1, 5, 3, 7, 2, 6, 4, 8]\u001b[0m\u001b[0;34m\u001b[0m\u001b[0;34m\u001b[0m\u001b[0;34m\u001b[0m\u001b[0m\n",
      "\u001b[0;32m<ipython-input-28-9057aede2c8f>\u001b[0m in \u001b[0;36mworst_case\u001b[0;34m(arr, start, end)\u001b[0m\n\u001b[1;32m     29\u001b[0m         \u001b[0msplit\u001b[0m\u001b[0;34m(\u001b[0m\u001b[0marr\u001b[0m\u001b[0;34m,\u001b[0m\u001b[0mleft\u001b[0m\u001b[0;34m,\u001b[0m\u001b[0mright\u001b[0m\u001b[0;34m,\u001b[0m\u001b[0mstart\u001b[0m\u001b[0;34m,\u001b[0m\u001b[0mmid\u001b[0m\u001b[0;34m,\u001b[0m\u001b[0mend\u001b[0m\u001b[0;34m)\u001b[0m\u001b[0;34m\u001b[0m\u001b[0;34m\u001b[0m\u001b[0m\n\u001b[1;32m     30\u001b[0m         \u001b[0mworst_case\u001b[0m\u001b[0;34m(\u001b[0m\u001b[0mleft\u001b[0m\u001b[0;34m,\u001b[0m\u001b[0mstart\u001b[0m\u001b[0;34m,\u001b[0m\u001b[0mmid\u001b[0m\u001b[0;34m)\u001b[0m\u001b[0;34m\u001b[0m\u001b[0;34m\u001b[0m\u001b[0m\n\u001b[0;32m---> 31\u001b[0;31m         \u001b[0mworst_case\u001b[0m\u001b[0;34m(\u001b[0m\u001b[0mright\u001b[0m\u001b[0;34m,\u001b[0m\u001b[0mmid\u001b[0m\u001b[0;34m+\u001b[0m\u001b[0;36m1\u001b[0m\u001b[0;34m,\u001b[0m\u001b[0mend\u001b[0m\u001b[0;34m)\u001b[0m\u001b[0;34m\u001b[0m\u001b[0;34m\u001b[0m\u001b[0m\n\u001b[0m\u001b[1;32m     32\u001b[0m         \u001b[0mjoin\u001b[0m\u001b[0;34m(\u001b[0m\u001b[0marr\u001b[0m\u001b[0;34m,\u001b[0m \u001b[0mleft\u001b[0m\u001b[0;34m,\u001b[0m \u001b[0mright\u001b[0m\u001b[0;34m,\u001b[0m \u001b[0mstart\u001b[0m\u001b[0;34m,\u001b[0m \u001b[0mmid\u001b[0m\u001b[0;34m,\u001b[0m \u001b[0mend\u001b[0m\u001b[0;34m)\u001b[0m\u001b[0;34m;\u001b[0m\u001b[0;34m\u001b[0m\u001b[0;34m\u001b[0m\u001b[0m\n\u001b[1;32m     33\u001b[0m \u001b[0;34m\u001b[0m\u001b[0m\n",
      "\u001b[0;32m<ipython-input-28-9057aede2c8f>\u001b[0m in \u001b[0;36mworst_case\u001b[0;34m(arr, start, end)\u001b[0m\n\u001b[1;32m     27\u001b[0m         \u001b[0mleft\u001b[0m \u001b[0;34m=\u001b[0m \u001b[0;34m[\u001b[0m\u001b[0;36m0\u001b[0m\u001b[0;34m]\u001b[0m\u001b[0;34m*\u001b[0m\u001b[0;34m(\u001b[0m\u001b[0mmid\u001b[0m \u001b[0;34m-\u001b[0m \u001b[0mstart\u001b[0m \u001b[0;34m+\u001b[0m \u001b[0;36m1\u001b[0m\u001b[0;34m)\u001b[0m\u001b[0;34m\u001b[0m\u001b[0;34m\u001b[0m\u001b[0m\n\u001b[1;32m     28\u001b[0m         \u001b[0mright\u001b[0m \u001b[0;34m=\u001b[0m \u001b[0;34m[\u001b[0m\u001b[0;36m0\u001b[0m\u001b[0;34m]\u001b[0m\u001b[0;34m*\u001b[0m\u001b[0;34m(\u001b[0m\u001b[0mend\u001b[0m \u001b[0;34m-\u001b[0m \u001b[0mmid\u001b[0m\u001b[0;34m)\u001b[0m\u001b[0;34m\u001b[0m\u001b[0;34m\u001b[0m\u001b[0m\n\u001b[0;32m---> 29\u001b[0;31m         \u001b[0msplit\u001b[0m\u001b[0;34m(\u001b[0m\u001b[0marr\u001b[0m\u001b[0;34m,\u001b[0m\u001b[0mleft\u001b[0m\u001b[0;34m,\u001b[0m\u001b[0mright\u001b[0m\u001b[0;34m,\u001b[0m\u001b[0mstart\u001b[0m\u001b[0;34m,\u001b[0m\u001b[0mmid\u001b[0m\u001b[0;34m,\u001b[0m\u001b[0mend\u001b[0m\u001b[0;34m)\u001b[0m\u001b[0;34m\u001b[0m\u001b[0;34m\u001b[0m\u001b[0m\n\u001b[0m\u001b[1;32m     30\u001b[0m         \u001b[0mworst_case\u001b[0m\u001b[0;34m(\u001b[0m\u001b[0mleft\u001b[0m\u001b[0;34m,\u001b[0m\u001b[0mstart\u001b[0m\u001b[0;34m,\u001b[0m\u001b[0mmid\u001b[0m\u001b[0;34m)\u001b[0m\u001b[0;34m\u001b[0m\u001b[0;34m\u001b[0m\u001b[0m\n\u001b[1;32m     31\u001b[0m         \u001b[0mworst_case\u001b[0m\u001b[0;34m(\u001b[0m\u001b[0mright\u001b[0m\u001b[0;34m,\u001b[0m\u001b[0mmid\u001b[0m\u001b[0;34m+\u001b[0m\u001b[0;36m1\u001b[0m\u001b[0;34m,\u001b[0m\u001b[0mend\u001b[0m\u001b[0;34m)\u001b[0m\u001b[0;34m\u001b[0m\u001b[0;34m\u001b[0m\u001b[0m\n",
      "\u001b[0;32m<ipython-input-28-9057aede2c8f>\u001b[0m in \u001b[0;36msplit\u001b[0;34m(arr, left, right, start, mid, end)\u001b[0m\n\u001b[1;32m     20\u001b[0m         \u001b[0mleft\u001b[0m\u001b[0;34m[\u001b[0m\u001b[0mi\u001b[0m\u001b[0;34m]\u001b[0m \u001b[0;34m=\u001b[0m \u001b[0marr\u001b[0m\u001b[0;34m[\u001b[0m\u001b[0mi\u001b[0m \u001b[0;34m*\u001b[0m \u001b[0;36m2\u001b[0m\u001b[0;34m]\u001b[0m\u001b[0;34m\u001b[0m\u001b[0;34m\u001b[0m\u001b[0m\n\u001b[1;32m     21\u001b[0m     \u001b[0;32mfor\u001b[0m \u001b[0mi\u001b[0m \u001b[0;32min\u001b[0m \u001b[0mrange\u001b[0m\u001b[0;34m(\u001b[0m\u001b[0;36m0\u001b[0m\u001b[0;34m,\u001b[0m\u001b[0mn2\u001b[0m\u001b[0;34m)\u001b[0m\u001b[0;34m:\u001b[0m\u001b[0;34m\u001b[0m\u001b[0;34m\u001b[0m\u001b[0m\n\u001b[0;32m---> 22\u001b[0;31m         \u001b[0mright\u001b[0m\u001b[0;34m[\u001b[0m\u001b[0mi\u001b[0m\u001b[0;34m]\u001b[0m \u001b[0;34m=\u001b[0m  \u001b[0marr\u001b[0m\u001b[0;34m[\u001b[0m\u001b[0mi\u001b[0m \u001b[0;34m*\u001b[0m \u001b[0;36m2\u001b[0m\u001b[0;34m+\u001b[0m\u001b[0;36m1\u001b[0m\u001b[0;34m]\u001b[0m\u001b[0;34m\u001b[0m\u001b[0;34m\u001b[0m\u001b[0m\n\u001b[0m\u001b[1;32m     23\u001b[0m \u001b[0;34m\u001b[0m\u001b[0m\n\u001b[1;32m     24\u001b[0m \u001b[0;32mdef\u001b[0m \u001b[0mworst_case\u001b[0m\u001b[0;34m(\u001b[0m\u001b[0marr\u001b[0m\u001b[0;34m,\u001b[0m\u001b[0mstart\u001b[0m\u001b[0;34m,\u001b[0m\u001b[0mend\u001b[0m\u001b[0;34m)\u001b[0m\u001b[0;34m:\u001b[0m\u001b[0;34m\u001b[0m\u001b[0;34m\u001b[0m\u001b[0m\n",
      "\u001b[0;31mIndexError\u001b[0m: list index out of range"
     ]
    }
   ],
   "source": [
    "def join(arr,left,right,start,mid,end):\n",
    "    n1 = mid - start + 1\n",
    "    n2 = end - mid\n",
    "    i = 0     # Initial index of first subarray \n",
    "    j = 0     # Initial index of second subarray \n",
    "    # Initial index of merged subarray \n",
    "    while i < n1: \n",
    "        arr[i] = left[i] \n",
    "        i += 1\n",
    "    # Copy the remaining elements of R[], if there \n",
    "    # are any \n",
    "    while j < n2: \n",
    "        arr[i+j] = right[j] \n",
    "        j += 1\n",
    "        \n",
    "def split(arr,left,right,start,mid,end):\n",
    "    n1 = mid - start \n",
    "    n2 = end - mid\n",
    "    for i in range(0,n1):\n",
    "        left[i] = arr[i * 2]\n",
    "    for i in range(0,n2):\n",
    "        right[i] =  arr[i * 2+1]  \n",
    "\n",
    "def worst_case(arr,start,end):\n",
    "    if (start < end):\n",
    "        mid = (start+(end-start)) // 2\n",
    "        left = [0]*(mid - start + 1)\n",
    "        right = [0]*(end - mid)\n",
    "        split(arr,left,right,start,mid,end)\n",
    "        worst_case(left,start,mid)\n",
    "        worst_case(right,mid+1,end)\n",
    "        join(arr, left, right, start, mid, end);  \n",
    "\n",
    "arr = [1,2,3,4,5]\n",
    "worst_case(arr,0,len(arr)-1)\n",
    "print(arr)\n",
    "# [1, 5, 3, 7, 2, 6, 4, 8]"
   ]
  },
  {
   "cell_type": "code",
   "execution_count": 4,
   "id": "bridal-population",
   "metadata": {},
   "outputs": [],
   "source": [
    "list = ['1', '2', '3', '4', '5', '6', '7', '8', '9', 'a', 'b']\n",
    "lists = []\n",
    "list_temp = []\n",
    "\n",
    "for _, __ in enumerate(list, 1):\n",
    "    list_temp.append(__)\n",
    "    if _ % 3 == 0 or _ == len(list):\n",
    "        lists.append(list_temp)\n",
    "        list_temp = []"
   ]
  },
  {
   "cell_type": "code",
   "execution_count": 155,
   "id": "collected-expression",
   "metadata": {},
   "outputs": [
    {
     "data": {
      "text/plain": [
       "[1, 5, 3, 7, 2, 6, 4, 8]"
      ]
     },
     "execution_count": 155,
     "metadata": {},
     "output_type": "execute_result"
    }
   ],
   "source": [
    "arr = [1,2,3,4,5,6,7,8]\n",
    "worst_case(arr,0,len(arr)-1)\n",
    "arr"
   ]
  },
  {
   "cell_type": "code",
   "execution_count": 72,
   "id": "grand-liability",
   "metadata": {},
   "outputs": [],
   "source": [
    "def split(arr,left,right,start,mid,end):\n",
    "    n1 = mid - start + 1\n",
    "    n2 = end - mid\n",
    "    for i in range(0,n1):\n",
    "        left[i] = arr[i * 2]\n",
    "    for i in range(0,n2):\n",
    "        right[i] =  arr[i * 2+1]  "
   ]
  },
  {
   "cell_type": "code",
   "execution_count": 75,
   "id": "secret-point",
   "metadata": {},
   "outputs": [
    {
     "name": "stdout",
     "output_type": "stream",
     "text": [
      "[0, 1, 2, 3, 4, 5, 6, 7]\n"
     ]
    }
   ],
   "source": [
    "arr = [0,1,2,3,4,5,6,7]\n",
    "left = []\n",
    "right = []\n",
    "mid = (0+len(arr)) // 2\n",
    "split(arr, left,right,0,mid,len(arr)-1)\n",
    "print(arr)"
   ]
  },
  {
   "cell_type": "code",
   "execution_count": 60,
   "id": "portable-flesh",
   "metadata": {},
   "outputs": [
    {
     "name": "stdout",
     "output_type": "stream",
     "text": [
      "7\n"
     ]
    }
   ],
   "source": [
    "arr = [0,1,2,3,4,5,6,7]\n",
    "left = []\n",
    "right = []\n",
    "mid = (0+len(arr)) // 2\n",
    "split(arr, left,right,0,mid,len(arr)-1)\n",
    "print(len(arr)-1)"
   ]
  },
  {
   "cell_type": "code",
   "execution_count": 64,
   "id": "accessible-pattern",
   "metadata": {},
   "outputs": [],
   "source": [
    "def join(arr,left,right,start,mid,end):\n",
    "    i = start\n",
    "    j = mid + 1\n",
    "    arr = [0]*(end-start+1)\n",
    "    for i in range(mid):\n",
    "        arr[i] = left[i]\n",
    "    for j in range(end-mid+1):\n",
    "        arr[mid+j] = right[j]"
   ]
  },
  {
   "cell_type": "code",
   "execution_count": 67,
   "id": "reflected-indian",
   "metadata": {},
   "outputs": [
    {
     "name": "stdout",
     "output_type": "stream",
     "text": [
      "None\n",
      "[0, 1, 2, 3, 4, 5, 6, 7]\n"
     ]
    }
   ],
   "source": [
    "arr1 = [0, 1, 2, 3]\n",
    "arr2 = [4,5,6,7]\n",
    "arr0 = []\n",
    "print(join(arr0,arr1,arr2,0,4,7))\n",
    "print(arr)"
   ]
  },
  {
   "cell_type": "code",
   "execution_count": 159,
   "id": "oriental-sight",
   "metadata": {},
   "outputs": [
    {
     "name": "stdout",
     "output_type": "stream",
     "text": [
      "Preorder traversal of binary tree is\n",
      "1\n",
      "2\n",
      "4\n",
      "5\n",
      "8\n",
      "7\n",
      "3\n",
      "\n",
      "Inorder traversal of binary tree is\n",
      "4\n",
      "2\n",
      "8\n",
      "5\n",
      "7\n",
      "1\n",
      "3\n",
      "\n",
      "Postorder traversal of binary tree is\n",
      "4\n",
      "8\n",
      "7\n",
      "5\n",
      "2\n",
      "3\n",
      "1\n"
     ]
    }
   ],
   "source": [
    "# Python program to for tree traversals \n",
    "  \n",
    "# A class that represents an individual node in a \n",
    "# Binary Tree \n",
    "class Node: \n",
    "    def __init__(self,key): \n",
    "        self.left = None\n",
    "        self.right = None\n",
    "        self.val = key \n",
    "  \n",
    "  \n",
    "# A function to do inorder tree traversal \n",
    "def printInorder(root): \n",
    "  \n",
    "    if root: \n",
    "  \n",
    "        # First recur on left child \n",
    "        printInorder(root.left) \n",
    "  \n",
    "        # then print the data of node \n",
    "        print(root.val), \n",
    "  \n",
    "        # now recur on right child \n",
    "        printInorder(root.right) \n",
    "  \n",
    "  \n",
    "  \n",
    "# A function to do postorder tree traversal \n",
    "def printPostorder(root): \n",
    "  \n",
    "    if root: \n",
    "  \n",
    "        # First recur on left child \n",
    "        printPostorder(root.left) \n",
    "  \n",
    "        # the recur on right child \n",
    "        printPostorder(root.right) \n",
    "  \n",
    "        # now print the data of node \n",
    "        print(root.val), \n",
    "  \n",
    "  \n",
    "# A function to do preorder tree traversal \n",
    "def printPreorder(root): \n",
    "  \n",
    "    if root: \n",
    "  \n",
    "        # First print the data of node \n",
    "        print(root.val), \n",
    "  \n",
    "        # Then recur on left child \n",
    "        printPreorder(root.left) \n",
    "  \n",
    "        # Finally recur on right child \n",
    "        printPreorder(root.right) \n",
    "  \n",
    "  \n",
    "# Driver code \n",
    "root = Node(1) \n",
    "root.left      = Node(2) \n",
    "root.right     = Node(3) \n",
    "root.left.left  = Node(4) \n",
    "root.left.right  = Node(5) \n",
    "root.left.right.left  = Node(6)\n",
    "root.left.right.right  = Node(7)\n",
    "root.left.right.left  = Node(8)\n",
    "print (\"Preorder traversal of binary tree is\")\n",
    "printPreorder(root) \n",
    "  \n",
    "print (\"\\nInorder traversal of binary tree is\")\n",
    "printInorder(root) \n",
    "  \n",
    "print (\"\\nPostorder traversal of binary tree is\")\n",
    "printPostorder(root)"
   ]
  },
  {
   "cell_type": "code",
   "execution_count": null,
   "id": "fitted-original",
   "metadata": {},
   "outputs": [],
   "source": [
    "[1, 5, 3, 7, 2, 6, 4, 8]\n"
   ]
  }
 ],
 "metadata": {
  "kernelspec": {
   "display_name": "Python 3",
   "language": "python",
   "name": "python3"
  },
  "language_info": {
   "codemirror_mode": {
    "name": "ipython",
    "version": 3
   },
   "file_extension": ".py",
   "mimetype": "text/x-python",
   "name": "python",
   "nbconvert_exporter": "python",
   "pygments_lexer": "ipython3",
   "version": "3.8.5"
  }
 },
 "nbformat": 4,
 "nbformat_minor": 5
}
